{
 "cells": [
  {
   "cell_type": "code",
   "execution_count": 1,
   "metadata": {},
   "outputs": [
    {
     "data": {
      "text/plain": [
       "'pt_BR.UTF-8'"
      ]
     },
     "execution_count": 1,
     "metadata": {},
     "output_type": "execute_result"
    }
   ],
   "source": [
    "# coding='utf-8'\n",
    "# Imports\n",
    "from bs4 import BeautifulSoup\n",
    "from datetime import datetime\n",
    "from matplotlib.ticker import FuncFormatter\n",
    "from scipy import spatial\n",
    "from scipy.interpolate import interp1d\n",
    "import argparse\n",
    "import csv\n",
    "import errno\n",
    "import json\n",
    "import locale\n",
    "import matplotlib.pyplot as plt\n",
    "import numpy as np\n",
    "import operator\n",
    "import os\n",
    "import pandas as pd\n",
    "import re\n",
    "\n",
    "import rotinas as rtn\n",
    "\n",
    "\"\"\"Lê dados de parlamentares de arquivos CSV e\n",
    "gera gráficos, texto e páginas com o conteúdo\n",
    "\"\"\"\n",
    "\n",
    "locale.setlocale(locale.LC_ALL, 'pt_BR.UTF-8')"
   ]
  },
  {
   "cell_type": "code",
   "execution_count": 2,
   "metadata": {},
   "outputs": [],
   "source": [
    "# Lê legislatura e Lista de anos de mandato para contabilização\n",
    "with open('csv/anos.csv', newline='') as arquivoAnos:\n",
    "    anosReader = csv.reader(arquivoAnos)\n",
    "    for row in anosReader:\n",
    "        # Ignora o header (se houver)\n",
    "        if rtn.maiorQue(row[0]) and rtn.maiorQue(row[1]) and rtn.maiorQue(row[2]):\n",
    "            legislaturaAtual = int(row[0])\n",
    "            anos = list(range(int(row[1]), int(row[2]) + 1))\n",
    "            # Quarto campo está no formato aaaa-mm-dd hh:mm:ss.dcmm\n",
    "            # Primeiro separa data de hora\n",
    "            dataColeta, horaColeta = row[3].split(' ')\n",
    "            # Muda data coleta de aaaa-mm-dd para dd/mm/aaaa\n",
    "            dataColeta = dataColeta.split('-')\n",
    "            dataColeta = dataColeta[2] + '/' + \\\n",
    "                dataColeta[1] + '/' + dataColeta[0]\n",
    "            # Descarta os décimos de segundo\n",
    "            horaColeta = horaColeta.split('.')[0]\n",
    "            break"
   ]
  },
  {
   "cell_type": "code",
   "execution_count": 3,
   "metadata": {},
   "outputs": [],
   "source": [
    "# Lê créditos das fotos\n",
    "# Ao fim, listaCredito[codigo] = credito para senador[codigo]\n",
    "with open('csv/creditos.csv', newline='') as creditos:\n",
    "    creditosReader = csv.reader(creditos)\n",
    "    header = next(creditosReader)\n",
    "    listaCredito = {}\n",
    "    for row in creditosReader:\n",
    "        listaCredito[int(row[0].split('.')[0].replace('senador', ''))] = row[1]"
   ]
  },
  {
   "cell_type": "code",
   "execution_count": 4,
   "metadata": {},
   "outputs": [],
   "source": [
    "# Lê DataFrames\n",
    "dadosSenado = pd.read_csv('csv/senado.csv', encoding='utf-8', index_col=0)\n",
    "top = pd.read_csv('csv/top.csv', encoding='utf-8')\n",
    "gastoPartidos = pd.read_csv('csv/gastoPartidos.csv',\n",
    "                            encoding='utf-8', index_col=0)\n",
    "gastoEstados = pd.read_csv('csv/gastoEstados.csv',\n",
    "                           encoding='utf-8', index_col=0)\n",
    "#sexo = pd.read_csv('csv/sexo.csv', encoding='utf-8')\n",
    "sexo = dadosSenado.rename(columns={'Participacao': '(Sexo, Situação)'}).groupby(\n",
    "    ['sexo', 'status'])['(Sexo, Situação)'].count()\n",
    "sexoT = pd.read_csv('csv/sexoT.csv', encoding='utf-8', index_col=0)"
   ]
  },
  {
   "cell_type": "code",
   "execution_count": 6,
   "metadata": {},
   "outputs": [],
   "source": [
    "# Lê arquivo json de gastos de senadores\n",
    "with open('json/gastosSenadores.json', 'r', encoding='utf-8') as entrada:\n",
    "    gastosSenadores = json.load(entrada)\n",
    "entrada.close()\n",
    "\n",
    "# Lê arquivo json de gastos do senado\n",
    "with open('json/gastosSenado.json', 'r', encoding='utf-8') as entrada:\n",
    "    gastosSenado = json.load(entrada)\n",
    "entrada.close()"
   ]
  },
  {
   "cell_type": "code",
   "execution_count": 7,
   "metadata": {},
   "outputs": [],
   "source": [
    "# Calcula dados importantes\n",
    "totalSenadores = len(dadosSenado)\n",
    "totalHomens = len(dadosSenado[dadosSenado.sexo == 'Masculino'])\n",
    "totalMulheres = len(dadosSenado[dadosSenado.sexo == 'Feminino'])\n",
    "totalExercicio = len(dadosSenado[dadosSenado.status == 'Exercicio'])\n",
    "totalMulheresExercicio = dadosSenado.query(\n",
    "    'sexo == \"Feminino\" and status == \"Exercicio\"').count()[0]\n",
    "totalForaExercicio = len(dadosSenado[dadosSenado.status == 'ForaExercicio'])\n",
    "totalGasto = dadosSenado['gastos'].sum()\n",
    "\n",
    "# Não contabiliza parlamentares que ainda não efetuaram gastos no cálculo de médias\n",
    "gastoMedioSenadores = dadosSenado.query('gastos != 0')['gastos'].mean()\n",
    "mediaGastosHomensExercicio = dadosSenado.query(\n",
    "    'gastos != 0 and sexo == \"Masculino\" and status == \"Exercicio\"')['gastos'].mean()\n",
    "mediaGastosMulheresExercicio = dadosSenado.query(\n",
    "    'gastos !=0 and sexo == \"Feminino\" and status == \"Exercicio\"')['gastos'].mean()"
   ]
  },
  {
   "cell_type": "code",
   "execution_count": 8,
   "metadata": {},
   "outputs": [
    {
     "name": "stdout",
     "output_type": "stream",
     "text": [
      "Há no senado 119 senadores, distribuidos entre 105 homens e 14 mulheres\n",
      "As mulheres representam 11,76% do total\n",
      "Há 81 senadores em exercício, destes 13 são mulheres\n",
      "As mulheres representam 16,05% deste total\n",
      "O gasto médio de senadores homens em exercício foi de R$ 1.172.066,69\n",
      "O gasto médio de senadores mulheres em exercício foi de R$ 1.122.171,65\n",
      "O gasto médio dos senadores, em exercício e fora de exercício, foi de R$ 961.693,02\n",
      "O montante de despesas parlamentares em 4 anos foi de R$ 101.939.460,46, com media anual de R$ 25.484.865,12\n",
      "\n",
      "Gastos do senado por tema:\n",
      "Aluguel de imóveis para escritório político: R$ 16.489.658,62\n",
      "Aquisição de material de consumo: R$ 3.027.975,29\n",
      "Locomoção, hospedagem, alimentação, combustíveis e: R$ 19.287.390,62\n",
      "Divulgação da atividade parlamentar: R$ 11.866.405,91\n",
      "Passagens aéreas, aquáticas e terrestres nacionais: R$ 21.626.326,41\n",
      "Diárias: R$ 2.072.919,20\n",
      "Combustíveis: R$ 1.012.498,01\n",
      "Outros materiais: R$ 1.286.763,98\n",
      "Correios: R$ 10.352.935,65\n",
      "Contratação de serviços de apoio ao parlamentar: R$ 11.708.001,87\n",
      "Ressarcimento de Passagens: R$ 1.049.796,76\n",
      "Serviços de Segurança Privada: R$ 1.526.771,18\n",
      "Total de gastos: R$ 101.307.443,50\n"
     ]
    }
   ],
   "source": [
    "# Imprime algumas informações do senado, pelos dados coletados\n",
    "print('Há no senado {:d} senadores, distribuidos entre {:d} homens e {:d} mulheres'.format(\n",
    "    totalSenadores, totalHomens, totalMulheres))\n",
    "print('As mulheres representam ' + locale.format('%.2f',\n",
    "                                                 totalMulheres / totalSenadores * 100) + '% do total')\n",
    "print('Há {:d} senadores em exercício, destes {:d} são mulheres'.format(\n",
    "    totalExercicio, totalMulheresExercicio))\n",
    "print('As mulheres representam ' + locale.format('%.2f',\n",
    "                                                 totalMulheresExercicio / totalExercicio * 100) + '% deste total')\n",
    "print('O gasto médio de senadores homens em exercício foi de ' +\n",
    "      rtn.reais(mediaGastosHomensExercicio))\n",
    "print('O gasto médio de senadores mulheres em exercício foi de ' +\n",
    "      rtn.reais(mediaGastosMulheresExercicio))\n",
    "print('O gasto médio dos senadores, em exercício e fora de exercício, foi de ' +\n",
    "      rtn.reais(gastoMedioSenadores))\n",
    "print('O montante de despesas parlamentares em {:d} anos foi de {}, com media anual de {}\\n'.format(\n",
    "    len(anos), rtn.reais(totalGasto), rtn.reais(totalGasto / len(anos))))\n",
    "\n",
    "print('Gastos do senado por tema:')\n",
    "totalizacaoGastosSenado = 0.0\n",
    "for caput in gastosSenado:\n",
    "    totalizacaoGastosSenado += gastosSenado[caput]\n",
    "    print('{}: {}'.format(caput, rtn.reais(round(gastosSenado[caput], 2))))\n",
    "\n",
    "print('Total de gastos: {}'.format(rtn.reais(round(totalizacaoGastosSenado, 2))))"
   ]
  },
  {
   "cell_type": "code",
   "execution_count": 9,
   "metadata": {},
   "outputs": [],
   "source": [
    "def meses(anos):\n",
    "    \"\"\"Retorna o total de meses desde o início da legislatura até a data da coleta\n",
    "    \"\"\"\n",
    "    #hoje = datetime.today()\n",
    "    mesColeta = int(dataColeta.split('/')[1])\n",
    "    #diaAtual = hoje.day                # 1 <= day <= número de dias do mês\n",
    "    pesos = np.full(len(anos), 12, dtype=int)\n",
    "    pesos[0] = 11                       # Desconta 1 do primeiro ano, porque a legislatura começa em fevereiro\n",
    "    pesos[len(anos)-1] = mesColeta      # Contabiliza o último ano pelo mês atual\n",
    "    return np.sum(pesos), pesos         # retorna o total de meses e os meses em cada ano\n",
    "\n",
    "\n",
    "numMeses, pesosMeses = meses(anos)      # Usado para ponderar os gastos totais e gastos com gabinete"
   ]
  },
  {
   "cell_type": "code",
   "execution_count": 10,
   "metadata": {},
   "outputs": [],
   "source": [
    "# Cria grafo de senadores\n",
    "grafo = {'nodes': [], 'links': []}\n",
    "\n",
    "links = 0\n",
    "reverso = {}\n",
    "gabinete = 'Uso de Gabinete'\n",
    "moradia = 'Uso de benefícios de moradia'\n",
    "\n",
    "# Cria os nós dos gastos\n",
    "for gasto in gastosSenado:\n",
    "    grafo['nodes'].append({\n",
    "        'id': links,\n",
    "        'tipo': 'gasto',\n",
    "        'nome': gasto,\n",
    "        'uso': round(gastosSenado[gasto], 2)\n",
    "        })\n",
    "    reverso[gasto] = links\n",
    "    links += 1\n",
    "\n",
    "# Cria os nós de uso de Gabinete e Moradia\n",
    "grafo['nodes'].append({\n",
    "    'id': links,\n",
    "    'tipo': 'gasto',\n",
    "    'nome': gabinete,\n",
    "    'uso': 0.0\n",
    "    })\n",
    "reverso[gabinete] = links\n",
    "links += 1\n",
    "grafo['nodes'].append({\n",
    "    'id': links,\n",
    "    'tipo': 'gasto',\n",
    "    'nome': moradia,\n",
    "    'uso': 0.0\n",
    "    })\n",
    "reverso[moradia] = links\n",
    "links += 1"
   ]
  },
  {
   "cell_type": "code",
   "execution_count": 11,
   "metadata": {},
   "outputs": [],
   "source": [
    "vetores = []\n",
    "\n",
    "totalMoradia = 0.0\n",
    "totalGabinete = 0.0\n",
    "\n",
    "for i in range(len(gastosSenadores)):\n",
    "    # print(i, links+i)\n",
    "    # senador -> índice para o senador no df dadosSenado\n",
    "    # infoSenador -> dados do senador no df dadosSenado\n",
    "    senador = gastosSenadores[i]['senador']\n",
    "    infoSenador = dadosSenado.loc[senador]\n",
    "    gastos = 0.0\n",
    "    tipoGastos = {}\n",
    "\n",
    "    # Computa o total de gastos (gastos) e o parcial em cada etiqueta (tipoGastos)\n",
    "    # de um senador\n",
    "    for g in range(len(gastosSenadores[i]['gastos'])):\n",
    "        gastos += gastosSenadores[i]['gastos'][g]['total']\n",
    "        for tipo in gastosSenadores[i]['gastos'][g]['lista']:\n",
    "            if tipo in tipoGastos:\n",
    "                tipoGastos[tipo] += round(gastosSenadores[i]['gastos'][g]['lista'][tipo], 2)\n",
    "            else:\n",
    "                tipoGastos[tipo] = round(gastosSenadores[i]['gastos'][g]['lista'][tipo], 2)\n",
    "\n",
    "    senadorGabinete = 0.0\n",
    "    senadorMoradia = 0.0\n",
    "\n",
    "    for ano in anos:\n",
    "        senadorGabinete += infoSenador[f'TotalGabinete-{ano}'] * pesosMeses[ano-anos[0]]\n",
    "        senadorMoradia += (infoSenador[f'Imóvel Funcional-{ano}'] + infoSenador[f'Auxílio-Moradia-{ano}']) # * pesosMeses[ano-anos[0]]\n",
    "\n",
    "    # Converte utilização de gabinete e moradia para uma estimativa de custo\n",
    "    senadorGabinete *= 10000\n",
    "    senadorMoradia *= 5500\n",
    "\n",
    "    if (senadorGabinete > 0.0):\n",
    "        tipoGastos[gabinete] = senadorGabinete\n",
    "    if (senadorMoradia > 0.0):\n",
    "        tipoGastos[moradia] = senadorMoradia\n",
    "    # Acumula os totais de gabinete e moradia\n",
    "    totalGabinete += senadorGabinete\n",
    "    totalMoradia += senadorMoradia\n",
    "    # Soma gastos, gabinete e moradia e\n",
    "    # pondera pelo número de meses da legislatura\n",
    "    recursos = round(gastos + senadorGabinete + senadorMoradia, 2)\n",
    "\n",
    "    if (recursos > 1000):\n",
    "        # Cria vetor de utilização de recursos\n",
    "        vetor = []\n",
    "        for gastos in gastosSenado:\n",
    "            if gastos in tipoGastos:\n",
    "                vetor.append(round(tipoGastos[gastos],2))\n",
    "            else:\n",
    "                vetor.append(0.0)\n",
    "\n",
    "        vetores.append({'id': i + links, 'vetor': list(vetor)})\n",
    "        reverso[i + links] = len(grafo['nodes'])\n",
    "\n",
    "        # Cria o nó do senador\n",
    "        grafo['nodes'].append({\n",
    "            'id': i + links,\n",
    "            'tipo': 'senador',\n",
    "            'uso': recursos,\n",
    "            'nome': infoSenador.nome,\n",
    "            'partido': infoSenador.partido,\n",
    "            'estado': infoSenador.UF,\n",
    "            'sexo': infoSenador.sexo,\n",
    "            'status': infoSenador.status,\n",
    "            'participacao': infoSenador.Participacao\n",
    "            # 'vetor': vetor\n",
    "            })\n",
    "\n",
    "        # Cria os links do senador para o nós dos gastos\n",
    "        for tipo in tipoGastos:\n",
    "            grafo['links'].append({\n",
    "                'source': i + links,\n",
    "                'target': reverso[tipo],\n",
    "                'weight': round(tipoGastos[tipo], 2)\n",
    "                })"
   ]
  },
  {
   "cell_type": "code",
   "execution_count": 16,
   "metadata": {},
   "outputs": [
    {
     "data": {
      "text/plain": [
       "[239395.87,\n",
       " 7486.18,\n",
       " 492799.54,\n",
       " 174805.59,\n",
       " 320108.77,\n",
       " 11340.64,\n",
       " 12281.28,\n",
       " 15759.4,\n",
       " 55224.31,\n",
       " 27468.0,\n",
       " 0.0,\n",
       " 0.0]"
      ]
     },
     "execution_count": 16,
     "metadata": {},
     "output_type": "execute_result"
    }
   ],
   "source": [
    "vetores[0]['vetor']"
   ]
  },
  {
   "cell_type": "code",
   "execution_count": 15,
   "metadata": {},
   "outputs": [
    {
     "data": {
      "text/plain": [
       "{'Combustíveis': 180.95,\n",
       " 'Locomoção, hospedagem, alimentação, combustíveis e': 1608.33,\n",
       " 'Outros materiais': 183.74,\n",
       " 'Passagens aéreas, aquáticas e terrestres nacionais': 9689.92}"
      ]
     },
     "execution_count": 15,
     "metadata": {},
     "output_type": "execute_result"
    }
   ],
   "source": [
    "tipoGastos"
   ]
  },
  {
   "cell_type": "code",
   "execution_count": 12,
   "metadata": {},
   "outputs": [],
   "source": [
    "# Preenche o gasto estimado de auxílio moradia e gabinete\n",
    "grafo['nodes'][reverso[gabinete]]['uso'] = totalGabinete\n",
    "grafo['nodes'][reverso[moradia]]['uso'] = totalMoradia\n",
    "similaridade = 0.96\n",
    "\n",
    "# Cria links entre os senadores que possuem similaridades de utilização\n",
    "# de recursos (similaridade de cosseno > args.similaridade [defaul > 0.95])\n",
    "interpolacao = interp1d([1, similaridade], [10, 5])\n",
    "for i in vetores:\n",
    "    excentricidade = []\n",
    "    for j in vetores:\n",
    "        dist = 1 - spatial.distance.cosine(i['vetor'], j['vetor'])\n",
    "        if i == j:\n",
    "            excentricidade.append(0.0)\n",
    "        else:\n",
    "            excentricidade.append(dist);\n",
    "        if (j['id'] > i['id']):\n",
    "            # dist = 1 - spatial.distance.cosine(i['vetor'], j['vetor'])\n",
    "            if dist > similaridade:\n",
    "                grafo['links'].append({\n",
    "                    'source': i['id'],\n",
    "                    'target': j['id'],\n",
    "                    'weight': round(float(interpolacao(dist)), 2)\n",
    "                    })\n",
    "    grafo['nodes'][reverso[i['id']]]['excentricidade'] = round(1 - max(excentricidade), 5)"
   ]
  },
  {
   "cell_type": "code",
   "execution_count": 18,
   "metadata": {},
   "outputs": [
    {
     "data": {
      "text/plain": [
       "12"
      ]
     },
     "execution_count": 18,
     "metadata": {},
     "output_type": "execute_result"
    }
   ],
   "source": [
    "len(vetores[0]['vetor'])"
   ]
  },
  {
   "cell_type": "code",
   "execution_count": 17,
   "metadata": {},
   "outputs": [
    {
     "data": {
      "text/plain": [
       "True"
      ]
     },
     "execution_count": 17,
     "metadata": {},
     "output_type": "execute_result"
    }
   ],
   "source": [
    "'Passagens aéreas, aquáticas e terrestres nacionais' in tipoGastos"
   ]
  },
  {
   "cell_type": "code",
   "execution_count": 26,
   "metadata": {},
   "outputs": [],
   "source": [
    "from scipy.interpolate import interp1d"
   ]
  },
  {
   "cell_type": "code",
   "execution_count": 27,
   "metadata": {},
   "outputs": [],
   "source": [
    "interpolacao = interp1d([1, 0.95], [10, 5])"
   ]
  },
  {
   "cell_type": "code",
   "execution_count": 34,
   "metadata": {},
   "outputs": [
    {
     "data": {
      "text/plain": [
       "7.5"
      ]
     },
     "execution_count": 34,
     "metadata": {},
     "output_type": "execute_result"
    }
   ],
   "source": [
    "float(interpolacao(0.975))"
   ]
  },
  {
   "cell_type": "code",
   "execution_count": 41,
   "metadata": {},
   "outputs": [
    {
     "data": {
      "text/plain": [
       "3"
      ]
     },
     "execution_count": 41,
     "metadata": {},
     "output_type": "execute_result"
    }
   ],
   "source": []
  },
  {
   "cell_type": "code",
   "execution_count": 16,
   "metadata": {},
   "outputs": [
    {
     "data": {
      "text/plain": [
       "{'custoGabinete': 25000, 'custoMoradia': 5500}"
      ]
     },
     "execution_count": 16,
     "metadata": {},
     "output_type": "execute_result"
    }
   ],
   "source": [
    "numMeses, pesosMeses = meses(anos)  # Usado para ponderar os gastos totais e gastos com gabinete\n",
    "grafo = {'nodes':[], 'links':[]}\n",
    "args = {'custoGabinete': 25000, 'custoMoradia': 5500}\n",
    "args"
   ]
  },
  {
   "cell_type": "code",
   "execution_count": 47,
   "metadata": {},
   "outputs": [
    {
     "name": "stdout",
     "output_type": "stream",
     "text": [
      "14 [239395.87, 7486.18, 492799.54, 174805.59, 320108.77, 11340.64, 12281.279999999999, 15370.7, 55224.31, 27468.0, 0.0, 0.0]\n",
      "15 [178078.84, 8442.14, 19172.04, 0.0, 55567.02, 0.0, 0.0, 5538.21, 18453.3, 57350.3, 0.0, 0.0]\n",
      "16 [0.0, 0.0, 17529.89, 0.0, 348363.3, 0.0, 19526.1, 23271.690000000002, 82449.73000000001, 0.0, 0.0, 0.0]\n",
      "17 [97164.41, 17538.1, 93911.7, 0.0, 220458.75, 30945.64, 14628.82, 12626.26, 183847.22999999998, 68900.0, 1939.31, 0.0]\n",
      "18 [393204.46, 91960.56, 18916.87, 0.0, 270282.02, 109993.09, 9000.18, 18905.6, 94895.47, 217065.99, 0.0, 0.0]\n",
      "19 [37086.0, 1443.8, 300975.27999999997, 316384.3, 216289.62999999998, 82909.07999999999, 13751.619999999999, 13105.7, 55366.740000000005, 129800.0, 0.0, 0.0]\n",
      "20 [119668.62000000001, 17830.41, 38923.17, 231760.0, 215834.51, 0.0, 1932.79, 12002.029999999999, 54218.75, 117741.09999999999, 0.0, 0.0]\n",
      "21 [40753.42, 0.0, 158272.57, 402277.68, 299032.58999999997, 0.0, 20208.44, 11552.46, 77749.65000000001, 55000.0, 0.0, 0.0]\n",
      "22 [648342.93, 39494.51, 25968.920000000002, 23018.6, 112603.06000000001, 0.0, 1208.83, 18163.050000000003, 193341.6, 5639.0, 0.0, 237.12]\n",
      "23 [233147.25999999998, 0.0, 45844.280000000006, 23243.859999999997, 294877.87000000005, 0.0, 15803.51, 6102.66, 112327.18000000001, 0.0, 0.0, 0.0]\n",
      "24 [10000.0, 4883.95, 1047761.01, 0.0, 235244.48, 84435.52, 21575.84, 17814.5, 220049.69999999998, 154000.0, 324802.44, 0.0]\n",
      "25 [0.0, 0.0, 275.95, 16900.0, 1020.0, 0.0, 0.0, 19056.53, 34609.229999999996, 206400.02000000002, 0.0, 0.0]\n",
      "26 [94761.86, 8073.83, 89208.5, 242269.2, 183856.25999999998, 9726.539999999999, 15259.52, 12188.439999999999, 165914.07, 536921.78, 0.0, 0.0]\n",
      "27 [134953.29, 55976.91, 212124.92, 8830.0, 203105.44, 0.0, 13569.64, 12744.69, 91584.89, 1591.99, 0.0, 0.0]\n",
      "28 [204833.15, 46042.369999999995, 384713.73, 761375.6, 166733.81, 11995.650000000001, 15204.09, 8351.380000000001, 103054.62, 1400.0, 0.0, 2259.56]\n",
      "29 [110992.63, 84328.14000000001, 320883.62, 2340.0, 302117.23, 5408.59, 14456.17, 16986.54, 113324.84000000001, 102753.86, 0.0, 0.0]\n",
      "30 [438945.36, 0.0, 435.15, 0.0, 32186.409999999996, 0.0, 21522.6, 18870.030000000002, 145959.58, 277513.18, 0.0, 19520.0]\n",
      "31 [180783.12, 56458.409999999996, 455675.82, 9950.0, 370036.27, 0.0, 12605.3, 18779.649999999998, 93938.61000000002, 28025.42, 0.0, 6007.040000000001]\n",
      "32 [0.0, 360.0, 6897.400000000001, 511828.0, 314620.56999999995, 0.0, 3861.48, 12116.609999999999, 5392.04, 165000.0, 0.0, 0.0]\n",
      "33 [107500.58, 15763.6, 178892.66, 188109.43, 114849.49000000002, 27737.379999999997, 3303.04, 5956.2300000000005, 122443.42, 24492.89, 16952.010000000002, 0.0]\n",
      "34 [224889.53, 60120.33, 356767.19000000006, 171629.0, 288769.31, 680.45, 17449.39, 7827.89, 124541.28, 322727.4, 0.0, 10015.33]\n",
      "35 [0.0, 0.0, 0.0, 0.0, 0.0, 0.0, 6602.16, 17397.21, 42593.37, 0.0, 0.0, 0.0]\n",
      "36 [259041.38999999998, 14172.5, 477532.8, 32983.54, 327024.18000000005, 61751.04, 8246.220000000001, 15869.78, 168302.54, 194277.33000000002, 10754.74, 0.0]\n",
      "37 [0.0, 0.0, 47.25, 144000.0, 0.0, 23668.32, 7672.719999999999, 16591.39, 238928.23, 226000.0, 8716.45, 951630.47]\n",
      "38 [234227.53, 59334.32, 584613.8200000001, 2195.4, 231565.33, 11513.09, 19951.05, 20850.16, 368966.35000000003, 114759.76000000001, 0.0, 34486.42]\n",
      "39 [291605.33999999997, 36216.98, 116409.19, 107092.0, 429426.72000000003, 62008.32, 4363.08, 10918.99, 10903.93, 51530.0, 0.0, 15051.52]\n",
      "40 [153186.94, 55944.15000000001, 145599.7, 35500.0, 254771.06, 0.0, 15896.59, 16897.420000000002, 92832.72, 244129.41999999998, 0.0, 933.4]\n",
      "41 [60352.08, 7166.0, 603224.98, 311933.23, 385699.29, 117152.67, 13842.880000000001, 12785.22, 50700.950000000004, 90511.89, 358702.97, 21457.839999999997]\n",
      "42 [226641.80000000002, 77626.05, 159795.55999999997, 82350.0, 378596.05, 48192.939999999995, 17509.68, 16343.269999999999, 98614.26, 282672.63, 10784.93, 105.44]\n",
      "43 [321751.94, 68015.23000000001, 624774.53, 14390.0, 382804.13, 135099.4, 14964.98, 12981.22, 323403.69, 12800.2, 0.0, 0.0]\n",
      "44 [203825.95999999996, 73709.74, 1581.38, 148757.6, 1181.25, 114530.88, 18810.9, 25760.859999999997, 32777.810000000005, 336975.0, 0.0, 0.0]\n",
      "45 [99278.78, 2282.91, 635012.23, 413790.8, 210961.06, 0.0, 9184.9, 10911.039999999999, 89418.13, 1950.0, 0.0, 0.0]\n",
      "46 [0.0, 0.0, 0.0, 15400.0, 436227.87, 0.0, 262.33, 16422.920000000002, 82032.31000000001, 155000.0, 0.0, 0.0]\n",
      "47 [268879.09, 86822.43, 406284.83999999997, 37490.0, 331556.20999999996, 113796.8, 11455.43, 13139.609999999999, 73980.02, 61852.56, 92874.51, 0.0]\n",
      "48 [88587.32, 27687.58, 397517.77999999997, 46848.0, 225406.98, 0.0, 20968.97, 18727.78, 152102.04, 50138.0, 0.0, 177119.71]\n",
      "49 [35499.65, 0.0, 127031.16, 369360.0, 227879.25, 8307.539999999999, 8425.52, 15772.869999999999, 193255.48, 0.0, 0.0, 0.0]\n",
      "50 [164856.25999999998, 19486.309999999998, 327376.73000000004, 360179.0, 343510.07, 61144.26, 13122.93, 16058.849999999999, 124175.57, 141677.97999999998, 33602.770000000004, 0.0]\n",
      "51 [148206.91, 127116.79999999999, 406855.23, 5962.2, 411011.39999999997, 0.0, 5126.65, 12207.64, 443028.95, 276556.38, 0.0, 0.0]\n",
      "52 [221629.8, 38104.299999999996, 121854.61, 0.0, 423801.64, 0.0, 8843.369999999999, 12712.51, 1351.05, 60723.11, 0.0, 0.0]\n",
      "53 [130456.45000000001, 2300.0, 458967.6, 0.0, 251690.78999999998, 0.0, 12355.119999999999, 21355.370000000003, 161874.61, 128400.0, 0.0, 9600.0]\n",
      "54 [296658.52, 176035.25, 462402.06, 250100.0, 396985.35, 3399.39, 0.0, 13004.82, 92418.91, 108983.0, 0.0, 0.0]\n",
      "55 [242734.81999999998, 6494.0, 54342.73, 1685.0, 62062.01, 31753.28, 4869.64, 17208.91, 66622.65, 111343.09999999999, 0.0, 0.0]\n",
      "56 [205167.91999999998, 30711.25, 218892.41999999998, 3500.0, 234322.31, 15705.64, 9938.87, 10860.3, 60009.6, 110837.92000000001, 0.0, 0.0]\n",
      "57 [332700.00000000006, 0.0, 19212.46, 0.0, 875569.9399999998, 61433.56999999999, 13795.75, 12576.88, 24209.100000000002, 35666.86, 0.0, 0.0]\n",
      "58 [353128.99, 101142.25, 165499.78, 41040.0, 283118.72000000003, 96973.29999999999, 16185.35, 10205.51, 131875.04, 106958.72999999998, 0.0, 0.0]\n",
      "59 [102933.04999999999, 13483.33, 380060.73, 124765.5, 74231.1, 0.0, 14810.05, 13873.25, 161007.06, 117069.0, 0.0, 2311.0]\n",
      "60 [159743.45, 6224.68, 207610.69, 107860.51000000001, 657112.4, 9672.52, 18063.800000000003, 23864.100000000002, 130845.29999999999, 67020.99, 0.0, 0.0]\n",
      "61 [138399.81999999998, 0.0, 153822.39, 0.0, 63799.89, 0.0, 5862.52, 6132.04, 82321.06, 0.0, 0.0, 0.0]\n",
      "62 [484835.18, 22034.66, 46713.98, 14030.0, 235190.99, 0.0, 13529.51, 10709.27, 22754.79, 73888.56, 0.0, 0.0]\n",
      "63 [0.0, 0.0, 0.0, 173614.0, 153723.38, 0.0, 7864.040000000001, 9033.82, 60013.58000000001, 1078000.0, 0.0, 0.0]\n",
      "64 [123323.97, 4000.0, 348145.29000000004, 0.0, 136525.47, 0.0, 8990.849999999999, 11334.64, 166557.11, 50007.0, 0.0, 0.0]\n",
      "65 [510691.05000000005, 30609.27, 405069.09, 0.0, 291362.73, 13223.52, 6791.139999999999, 15276.170000000002, 258595.32, 17642.870000000003, 0.0, 45.0]\n",
      "66 [164051.21000000002, 141507.19, 367183.91000000003, 156066.82, 183364.03, 29333.440000000002, 17854.64, 9114.45, 217192.24000000002, 274598.25, 4524.29, 0.0]\n",
      "67 [391753.3, 21316.72, 416527.39, 64382.25, 511834.95999999996, 680.45, 3681.65, 18427.879999999997, 275708.37, 29473.5, 0.0, 0.0]\n",
      "68 [167745.5, 127803.58, 50153.85, 78968.0, 131886.1, 11848.8, 3545.55, 9576.38, 77923.1, 180266.19, 2695.67, 21145.0]\n",
      "69 [64000.0, 0.0, 573.36, 495400.0, 8439.2, 0.0, 7407.46, 7898.67, 10435.45, 95755.2, 0.0, 0.0]\n",
      "70 [192899.68, 12541.400000000001, 106043.96999999999, 15435.0, 699342.1299999999, 5524.48, 17504.329999999998, 15592.5, 167033.92, 431554.06, 0.0, 0.0]\n",
      "71 [205725.16, 11701.83, 465530.78, 18600.0, 433368.27, 5317.24, 9832.779999999999, 16051.96, 189113.85, 23177.72, 0.0, 220.08]\n",
      "72 [0.0, 0.0, 0.0, 0.0, 0.0, 0.0, 0.0, 3639.25, 0.0, 0.0, 0.0, 0.0]\n",
      "73 [159624.12, 414.0, 7231.54, 48000.0, 71138.3, 7540.0, 19114.1, 15162.88, 166935.74, 42910.0, 0.0, 0.0]\n",
      "74 [230836.96, 19849.1, 261545.97000000003, 80397.17, 262776.80999999994, 15279.68, 9765.58, 14917.570000000002, 31316.78, 151746.44, 0.0, 0.0]\n",
      "75 [197013.02, 55686.91, 159984.74000000002, 1638.0, 134658.25999999998, 14305.79, 1490.71, 6432.28, 67984.31, 16597.25, 21728.74, 0.0]\n",
      "76 [272122.14999999997, 34024.33, 224013.90000000002, 168697.82, 337313.89, 175547.48, 17651.63, 8754.64, 90959.85, 129179.56, 56840.42, 209.4]\n",
      "77 [290523.67, 26649.56, 258067.17, 113212.1, 187007.84, 58775.32, 14614.34, 20811.82, 123575.54000000001, 217062.76, 15153.21, 232510.51]\n",
      "78 [0.0, 0.0, 0.0, 0.0, 0.0, 0.0, 0.0, 0.0, 1384.0, 0.0, 0.0, 0.0]\n",
      "79 [278389.32, 171227.38, 118421.33, 261445.5, 420554.91000000003, 0.0, 18358.73, 26209.38, 237226.85, 329720.61, 0.0, 0.0]\n",
      "80 [229562.74, 117264.78, 1885.22, 265304.5, 414502.02999999997, 0.0, 11324.279999999999, 12834.36, 44561.810000000005, 130600.0, 0.0, 0.0]\n",
      "81 [293913.22000000003, 163780.07, 177832.73, 519.74, 159692.22, 4819.4, 13147.85, 16698.149999999998, 24914.82, 0.0, 0.0, 2543.02]\n",
      "82 [218843.22999999998, 6997.04, 77593.9, 279320.0, 482475.92, 0.0, 14656.43, 15491.84, 56019.46, 117091.57, 0.0, 0.0]\n",
      "83 [223492.66, 12850.249999999998, 49352.94, 72400.0, 193588.42, 0.0, 11552.79, 16252.97, 145502.73, 18000.0, 0.0, 0.0]\n",
      "84 [181036.61, 0.0, 326701.08999999997, 553760.6499999999, 223001.79, 41855.92, 12938.69, 11600.67, 129617.66, 171150.0, 28600.45, 750.0]\n",
      "85 [0.0, 0.0, 308.4, 0.0, 79552.88, 0.0, 8769.42, 21865.43, 91492.35, 434750.0, 0.0, 0.0]\n",
      "86 [11655.98, 714.4, 39464.76, 0.0, 3957.57, 0.0, 0.0, 773.71, 12280.01, 25000.0, 0.0, 540.0]\n",
      "87 [80863.15, 0.0, 225095.38, 705821.6599999999, 402168.7, 0.0, 18555.89, 27704.780000000002, 172332.58000000002, 0.0, 0.0, 0.0]\n",
      "88 [205873.34, 22009.54, 316647.32, 475458.11000000004, 381723.75, 83436.59, 18395.18, 21333.42, 50996.880000000005, 217352.8, 9510.550000000001, 0.0]\n",
      "89 [39508.95, 19724.0, 646712.0, 280331.88, 16640.93, 5308.16, 20297.66, 29574.73, 214921.64, 395.0, 0.0, 0.0]\n",
      "90 [237518.24000000002, 52043.490000000005, 201009.5, 91205.0, 278025.74, 0.0, 6734.38, 20020.250000000004, 73985.29, 81733.74, 0.0, 1400.0]\n",
      "91 [396689.48, 88307.48, 329899.0, 190780.0, 213925.81, 51061.22, 9633.89, 16708.46, 129332.83000000002, 94964.2, 0.0, 0.0]\n",
      "92 [306907.28, 72088.66, 359405.85000000003, 46474.14, 2361.32, 9609.6, 7018.24, 20279.25, 312578.2, 4109.35, 0.0, 3650.0]\n",
      "93 [205518.13, 0.0, 453320.5, 695.0, 183328.52, 22538.88, 4285.96, 7748.58, 328953.9100000001, 290834.0, 0.0, 0.0]\n",
      "94 [124288.74999999999, 0.0, 211530.69, 323041.81, 219632.24, 9459.84, 14834.59, 12890.39, 256738.06, 534240.0, 0.0, 0.0]\n",
      "95 [315407.44, 65286.729999999996, 37135.1, 6680.97, 171991.91, 41787.2, 10543.3, 9080.17, 68022.89, 18232.769999999997, 34143.619999999995, 0.0]\n",
      "97 [106735.66, 11359.74, 1852.83, 81460.0, 55462.409999999996, 0.0, 13474.89, 6133.61, 6865.91, 6000.0, 0.0, 0.0]\n",
      "98 [215551.51, 54124.93, 4529.22, 229200.0, 108034.68999999999, 38349.67, 3890.06, 9446.82, 13122.15, 66533.44, 0.0, 0.0]\n",
      "100 [9475.95, 620.07, 13867.4, 59800.0, 25732.49, 0.0, 630.15, 2121.85, 46188.34, 24416.85, 0.0, 0.0]\n",
      "101 [87279.32, 0.0, 0.0, 0.0, 158112.9, 0.0, 10035.2, 2747.2200000000003, 8577.57, 0.0, 0.0, 151.0]\n",
      "102 [168559.33000000002, 29173.04, 95617.64, 17450.0, 66912.93, 27519.62, 14210.58, 7505.290000000001, 33871.17, 8781.83, 0.0, 0.0]\n",
      "103 [134583.12, 9651.1, 6052.08, 68192.0, 125257.06, 0.0, 7896.860000000001, 8456.529999999999, 8834.380000000001, 34742.5, 0.0, 0.0]\n",
      "104 [2090.0, 1045.0, 22834.42, 113950.0, 23160.9, 0.0, 0.0, 1224.44, 1806.81, 16850.82, 0.0, 0.0]\n",
      "105 [159.94, 49.8, 5121.35, 0.0, 26345.15, 1381.84, 0.0, 586.87, 145.32, 0.0, 0.0, 0.0]\n",
      "108 [0.0, 0.0, 0.0, 0.0, 3923.04, 0.0, 0.0, 0.0, 27.8, 0.0, 0.0, 0.0]\n",
      "109 [112142.34999999999, 12433.43, 28561.75, 0.0, 65321.47, 0.0, 1912.68, 3140.94, 1609.1699999999998, 40060.44, 0.0, 0.0]\n",
      "114 [23932.24, 12633.4, 41607.25, 6796.8, 28908.45, 20910.24, 1606.96, 1524.73, 3054.75, 566.4, 0.0, 0.0]\n",
      "115 [167047.72, 781.45, 110465.12, 20600.0, 109710.26999999999, 10616.32, 14169.619999999999, 4640.950000000001, 74862.86, 151884.6, 0.0, 0.0]\n",
      "117 [27644.28, 0.0, 44277.53999999999, 0.0, 27382.63, 0.0, 0.0, 2386.83, 3973.46, 54437.0, 0.0, 0.0]\n",
      "118 [18302.33, 5878.92, 23978.67, 10778.0, 54304.71, 0.0, 241.5, 887.73, 10509.16, 0.0, 0.0, 0.0]\n",
      "120 [0.0, 0.0, 0.0, 0.0, 0.0, 0.0, 0.0, 0.0, 28.59, 0.0, 0.0, 0.0]\n",
      "121 [22196.0, 0.0, 29611.06, 41200.0, 16919.16, 0.0, 267.69, 1134.48, 12927.45, 10500.0, 0.0, 0.0]\n",
      "123 [47637.21, 0.0, 19354.92, 0.0, 18891.81, 0.0, 3140.4799999999996, 1659.04, 541.36, 0.0, 0.0, 0.0]\n",
      "124 [0.0, 0.0, 0.0, 0.0, 0.0, 0.0, 0.0, 45.75, 0.0, 0.0, 0.0, 0.0]\n",
      "125 [0.0, 6000.0, 12449.9, 249724.0, 182527.19, 0.0, 10457.16, 6330.969999999999, 38069.57, 28084.0, 0.0, 0.0]\n",
      "127 [32145.54, 410.40999999999997, 40020.899999999994, 0.0, 18085.23, 0.0, 0.0, 1203.23, 481.1, 23305.62, 0.0, 0.0]\n",
      "128 [124876.31, 18384.829999999998, 430549.02, 242851.95, 297071.57999999996, 1962.84, 15792.48, 9193.480000000001, 68489.55, 357917.87, 0.0, 12872.32]\n",
      "130 [13746.56, 0.0, 24000.0, 0.0, 8671.93, 0.0, 251.53, 428.5, 62.89, 0.0, 0.0, 0.0]\n",
      "131 [126746.43, 18107.59, 68083.75, 0.0, 42913.93, 18959.24, 5373.53, 3646.31, 90964.12, 1456.81, 17469.68, 0.0]\n",
      "132 [0.0, 0.0, 1608.33, 0.0, 9689.92, 0.0, 180.95, 183.74, 0.0, 0.0, 0.0, 0.0]\n"
     ]
    }
   ],
   "source": [
    "grafo = {\"nodes\": [], \"links\": []}\n",
    "\n",
    "links = 0\n",
    "reverso = {}\n",
    "gabinete = \"Uso de Gabinete\"\n",
    "moradia = \"Uso de benefícios de moradia\"\n",
    "\n",
    "# Cria os nós dos gastos\n",
    "for gasto in gastosSenado:\n",
    "    grafo['nodes'].append({\n",
    "        \"id\": links,\n",
    "        \"tipo\": \"gasto\",\n",
    "        \"nome\": gasto,\n",
    "        \"uso\": round(gastosSenado[gasto], 2)\n",
    "        })\n",
    "    reverso[gasto] = links\n",
    "    links += 1\n",
    "\n",
    "# Cria os nós de uso de Gabinete e Moradia\n",
    "grafo['nodes'].append({\n",
    "    \"id\": links,\n",
    "    \"tipo\": \"gasto\",\n",
    "    \"nome\": gabinete,\n",
    "    \"uso\": 0.0\n",
    "    })\n",
    "\n",
    "reverso[gabinete] = links\n",
    "links += 1\n",
    "grafo['nodes'].append({\n",
    "    \"id\": links,\n",
    "    \"tipo\": \"gasto\",\n",
    "    \"nome\": moradia,\n",
    "    \"uso\": 0.0\n",
    "    })\n",
    "reverso[moradia] = links\n",
    "links += 1\n",
    "totalMoradia = 0.0\n",
    "totalGabinete = 0.0\n",
    "vetores = {}\n",
    "\n",
    "# Cria grafo de senadores e\n",
    "# grafo de partidos\n",
    "for i in range(len(gastosSenadores)):\n",
    "    # senador -> índice para o senador no df dadosSenado\n",
    "    # infoSenador -> dados do senador no df dadosSenado\n",
    "    senador = gastosSenadores[i]['senador']\n",
    "    infoSenador = dadosSenado.loc[senador]\n",
    "    gastos = 0.0\n",
    "    tipoGastos = {}\n",
    "\n",
    "    # Computa o total de gastos (gastos) e o parcial em cada etiqueta (tipoGastos)\n",
    "    # de um senador\n",
    "    for g in range(len(gastosSenadores[i]['gastos'])):\n",
    "        gastos += gastosSenadores[i]['gastos'][g]['total']\n",
    "        for tipo in gastosSenadores[i]['gastos'][g]['lista']:\n",
    "            if tipo in tipoGastos:\n",
    "                tipoGastos[tipo] += round(gastosSenadores[i]['gastos'][g]['lista'][tipo], 2)\n",
    "            else:\n",
    "                tipoGastos[tipo] = round(gastosSenadores[i]['gastos'][g]['lista'][tipo], 2)\n",
    "\n",
    "    senadorGabinete = 0.0\n",
    "    senadorMoradia = 0.0\n",
    "\n",
    "    for ano in anos:\n",
    "        senadorGabinete += infoSenador[f'TotalGabinete-{ano}'] * pesosMeses[ano-anos[0]]\n",
    "        senadorMoradia += (infoSenador[f'Imóvel Funcional-{ano}'] + infoSenador[f'Auxílio-Moradia-{ano}']) # * pesosMeses[ano-anos[0]]\n",
    "\n",
    "    # Converte utilização de gabinete e moradia para uma estimativa de custo\n",
    "    senadorGabinete *= args['custoGabinete']\n",
    "    senadorMoradia *= args['custoMoradia']\n",
    "    if (senadorGabinete > 0.0):\n",
    "        tipoGastos[gabinete] = senadorGabinete\n",
    "    if (senadorMoradia > 0.0):\n",
    "        tipoGastos[moradia] = senadorMoradia\n",
    "    # Acumula os totais de gabinete e moradia\n",
    "    totalGabinete += senadorGabinete\n",
    "    totalMoradia += senadorMoradia\n",
    "    # Soma gastos, gabinete e moradia e\n",
    "    # pondera pelo número de meses da legislatura\n",
    "    recursos = round(gastos + senadorGabinete + senadorMoradia, 2)\n",
    "\n",
    "    if (recursos > 0.0):\n",
    "        # Cria vetor de utilização de recursos\n",
    "        vetor = []\n",
    "        for gastos in gastosSenado:\n",
    "            if gastos in tipoGastos:\n",
    "                vetor.append(tipoGastos[gastos])\n",
    "            else:\n",
    "                vetor.append(0.0)\n",
    "        vetores[i+links] = list(vetor)\n",
    "        print(i+links, vetor)\n",
    "\n",
    "        # Cria o nó do senador\n",
    "        grafo['nodes'].append({\n",
    "            \"id\": i + links,\n",
    "            \"tipo\": \"senador\",\n",
    "            \"uso\": recursos,\n",
    "            \"nome\": infoSenador.nome,\n",
    "            \"partido\": infoSenador.partido,\n",
    "            \"sexo\": infoSenador.sexo,\n",
    "            \"status\": infoSenador.status,\n",
    "            \"participacao\": infoSenador.Participacao\n",
    "            })\n",
    "\n",
    "        # Cria os links do senador para o nós dos gastos\n",
    "        for tipo in tipoGastos:\n",
    "            grafo['links'].append({\n",
    "                \"source\": i + links,\n",
    "                \"target\": reverso[tipo],\n",
    "                \"weight\": round(tipoGastos[tipo], 2)\n",
    "                })\n",
    "# Preenche o gasto estimado de auxílio moradia e gabinete\n",
    "grafo['nodes'][reverso[gabinete]][\"uso\"] = totalGabinete\n",
    "grafo['nodes'][reverso[moradia]][\"uso\"] = totalMoradia"
   ]
  },
  {
   "cell_type": "code",
   "execution_count": 33,
   "metadata": {},
   "outputs": [],
   "source": [
    "from scipy import spatial"
   ]
  },
  {
   "cell_type": "code",
   "execution_count": 44,
   "metadata": {},
   "outputs": [
    {
     "name": "stdout",
     "output_type": "stream",
     "text": [
      "15 55 0.9709809593570231\n",
      "15 62 0.9746753163682853\n",
      "15 109 0.9673466546590896\n",
      "16 105 0.9611031873700173\n",
      "16 108 0.970079136908454\n",
      "16 132 0.9652656159064685\n",
      "19 50 0.9645956671962761\n",
      "21 87 0.9858551047929305\n",
      "21 125 0.9625506266590782\n",
      "25 63 0.9785663970959088\n",
      "25 85 0.9801865746038438\n",
      "26 94 0.9773749848215361\n",
      "27 29 0.9626768848035515\n",
      "27 31 0.9777687751441377\n",
      "27 43 0.9616111588081127\n",
      "27 67 0.9752652761606403\n",
      "27 71 0.9817937984600268\n",
      "29 31 0.9744265679563844\n",
      "29 71 0.9684674203695521\n",
      "31 71 0.9873817501007893\n",
      "32 125 0.9740431620746838\n",
      "33 121 0.9658569384943388\n",
      "34 128 0.9729365967184378\n",
      "36 53 0.9746999677798991\n",
      "36 56 0.9657584578777167\n",
      "38 43 0.9621434036556981\n",
      "38 53 0.961962519663997\n",
      "38 64 0.9904114103005122\n",
      "39 52 0.9670880796130796\n",
      "40 42 0.9855677042343258\n",
      "43 64 0.9652881653806138\n",
      "43 71 0.9616165369611509\n",
      "47 114 0.9634950497085414\n",
      "49 87 0.9788173855304165\n",
      "50 88 0.9822197850309893\n",
      "53 64 0.9795361736086967\n",
      "56 74 0.9812205843002364\n",
      "56 90 0.9691487178572564\n",
      "57 101 0.9859743694342834\n",
      "60 118 0.9839173015798168\n",
      "61 65 0.9813351190083026\n",
      "62 95 0.9659166922693297\n",
      "62 109 0.9751373191687012\n",
      "63 85 0.9750142849200387\n",
      "65 75 0.9772919919432356\n",
      "67 71 0.966870264904838\n",
      "72 124 1.0\n",
      "74 90 0.9728579622227387\n",
      "75 102 0.964157602395499\n",
      "78 120 0.9999999999999999\n",
      "80 82 0.9702087916106275\n",
      "84 88 0.9617616515806157\n",
      "84 121 0.983930892479746\n",
      "97 98 0.9625343537407223\n",
      "105 108 0.9800727179136304\n",
      "105 132 0.9980915473735383\n",
      "108 132 0.9861390240046397\n"
     ]
    }
   ],
   "source": [
    "for i in vetores:\n",
    "    for j in vetores:\n",
    "        if (j > i):\n",
    "            dist = 1 - spatial.distance.cosine(vetores[i], vetores[j])\n",
    "            if dist > 0.96:\n",
    "                print(i, j, dist)"
   ]
  },
  {
   "cell_type": "code",
   "execution_count": 17,
   "metadata": {},
   "outputs": [
    {
     "data": {
      "text/plain": [
       "{'id': 0,\n",
       " 'nome': 'Aluguel de imóveis para escritório político',\n",
       " 'tipo': 'gasto',\n",
       " 'uso': 16479460.43}"
      ]
     },
     "execution_count": 17,
     "metadata": {},
     "output_type": "execute_result"
    }
   ],
   "source": [
    "grafo['nodes'][0]"
   ]
  },
  {
   "cell_type": "code",
   "execution_count": 18,
   "metadata": {},
   "outputs": [
    {
     "data": {
      "text/plain": [
       "{'id': 15,\n",
       " 'nome': 'Airton Sandoval',\n",
       " 'participacao': '1º Suplente',\n",
       " 'partido': 'MDB',\n",
       " 'sexo': 'Masculino',\n",
       " 'status': 'Exercicio',\n",
       " 'tipo': 'senador',\n",
       " 'uso': 13119601.85}"
      ]
     },
     "execution_count": 18,
     "metadata": {},
     "output_type": "execute_result"
    }
   ],
   "source": [
    "grafo['nodes'][15]"
   ]
  },
  {
   "cell_type": "code",
   "execution_count": 19,
   "metadata": {},
   "outputs": [
    {
     "data": {
      "text/plain": [
       "{'source': 15, 'target': 9, 'weight': 57350.3}"
      ]
     },
     "execution_count": 19,
     "metadata": {},
     "output_type": "execute_result"
    }
   ],
   "source": [
    "grafo['links'][15]"
   ]
  },
  {
   "cell_type": "code",
   "execution_count": 20,
   "metadata": {},
   "outputs": [
    {
     "name": "stdout",
     "output_type": "stream",
     "text": [
      "Links: 1112, {'source': 14, 'target': 0, 'weight': 239395.87}\n"
     ]
    }
   ],
   "source": [
    "print(f'Links: {len(grafo[\"links\"])}, {grafo[\"links\"][0]}')"
   ]
  },
  {
   "cell_type": "code",
   "execution_count": 21,
   "metadata": {},
   "outputs": [
    {
     "data": {
      "text/plain": [
       "120"
      ]
     },
     "execution_count": 21,
     "metadata": {},
     "output_type": "execute_result"
    }
   ],
   "source": [
    "len(grafo['nodes'])"
   ]
  },
  {
   "cell_type": "markdown",
   "metadata": {},
   "source": [
    "## Playground"
   ]
  },
  {
   "cell_type": "code",
   "execution_count": 25,
   "metadata": {},
   "outputs": [
    {
     "data": {
      "text/plain": [
       "5"
      ]
     },
     "execution_count": 25,
     "metadata": {},
     "output_type": "execute_result"
    }
   ],
   "source": [
    "from datetime import datetime\n",
    "datetime.today().month"
   ]
  },
  {
   "cell_type": "code",
   "execution_count": 1,
   "metadata": {},
   "outputs": [
    {
     "ename": "NameError",
     "evalue": "name 'reverso' is not defined",
     "output_type": "error",
     "traceback": [
      "\u001b[0;31m---------------------------------------------------------------------------\u001b[0m",
      "\u001b[0;31mNameError\u001b[0m                                 Traceback (most recent call last)",
      "\u001b[0;32m<ipython-input-1-3131e4a3e5f5>\u001b[0m in \u001b[0;36m<module>\u001b[0;34m()\u001b[0m\n\u001b[0;32m----> 1\u001b[0;31m \u001b[0mreverso\u001b[0m\u001b[0;34m\u001b[0m\u001b[0m\n\u001b[0m",
      "\u001b[0;31mNameError\u001b[0m: name 'reverso' is not defined"
     ]
    }
   ],
   "source": [
    "reverso"
   ]
  },
  {
   "cell_type": "code",
   "execution_count": 19,
   "metadata": {},
   "outputs": [
    {
     "data": {
      "text/plain": [
       "3.0"
      ]
     },
     "execution_count": 19,
     "metadata": {},
     "output_type": "execute_result"
    }
   ],
   "source": [
    "np.mean([1, 3, 5])"
   ]
  },
  {
   "cell_type": "code",
   "execution_count": 79,
   "metadata": {},
   "outputs": [],
   "source": [
    "def meses(anos):\n",
    "    \"\"\"Retorna o total de meses desde o início da legislatura até a data atual\n",
    "    \"\"\"\n",
    "    mesAtual = datetime.today().month\n",
    "    pesos = np.full(len(anos), 12, dtype=int)\n",
    "    pesos[0] = 11                   # Desconta 1 do primeiro ano, porque a legislatura começa em fevereiro\n",
    "    pesos[len(anos)-1] = mesAtual   # Contabiliza o último ano pelo mês atual\n",
    "    return np.sum(pesos), pesos     # retorna o total de meses e os meses em cada ano"
   ]
  },
  {
   "cell_type": "code",
   "execution_count": 81,
   "metadata": {},
   "outputs": [
    {
     "name": "stdout",
     "output_type": "stream",
     "text": [
      "40 [11 12 12  5]\n"
     ]
    }
   ],
   "source": [
    "total, porAno = meses(anos)\n",
    "print(total, porAno)"
   ]
  },
  {
   "cell_type": "code",
   "execution_count": 29,
   "metadata": {},
   "outputs": [],
   "source": [
    "grafo = {\"nodes\":[], \"links\":[]}"
   ]
  },
  {
   "cell_type": "code",
   "execution_count": 42,
   "metadata": {},
   "outputs": [
    {
     "data": {
      "text/plain": [
       "{'links': [], 'nodes': []}"
      ]
     },
     "execution_count": 42,
     "metadata": {},
     "output_type": "execute_result"
    }
   ],
   "source": [
    "grafo"
   ]
  },
  {
   "cell_type": "code",
   "execution_count": 301,
   "metadata": {},
   "outputs": [
    {
     "name": "stdout",
     "output_type": "stream",
     "text": [
      "test: 10.12\n",
      "test 10.12\n"
     ]
    }
   ],
   "source": [
    "test = 10.1234\n",
    "print(f'test: {test:.2f}')\n",
    "print('test {:.2f}'.format(test))"
   ]
  },
  {
   "cell_type": "code",
   "execution_count": 22,
   "metadata": {},
   "outputs": [],
   "source": [
    "def json2gml(dados, arquivo, directed=0, id=\"id\", label=\"label\", numero=[]):\n",
    "    \"\"\"Gera arquivo em formato GML, como no exemplo abaixo:\n",
    "    graph [\n",
    "        directed 1\n",
    "        node [\n",
    "            id 0\n",
    "            label \"Bleak House\"\n",
    "        ]\n",
    "        node [\n",
    "            id 1\n",
    "            label \"Oliver Twist\"\n",
    "        ]\n",
    "        edge [\n",
    "            source 0\n",
    "            target 1\n",
    "            weight 2\n",
    "        ]\n",
    "    ]\n",
    "    \"\"\"\n",
    "    if not os.path.exists('gml'):\n",
    "        os.makedirs('gml')\n",
    "\n",
    "    with open(f'gml/{arquivo}', 'w', encoding='utf-8') as gml:\n",
    "        # Starts with GDF header\n",
    "        gml.write(f'graph [\\n    directed {directed}\\n')\n",
    "        # Loops through nodes\n",
    "        for no in dados['nodes']:\n",
    "            gml.write('    node [\\n')\n",
    "            for campo in no:\n",
    "                if campo == id:\n",
    "                    gml.write(f'        id {no[\"id\"]}\\n')\n",
    "                elif campo in numero:\n",
    "                    gml.write(f'        {campo} {no[campo]}\\n')\n",
    "                elif campo == label:\n",
    "                    gml.write(f'        label \"{no[campo]}\"\\n')\n",
    "                else:\n",
    "                    gml.write(f'        {campo} \"{no[campo]}\"\\n')\n",
    "            gml.write('    ]\\n')\n",
    "        for vertice in dados['links']:\n",
    "            gml.write('    edge [\\n')\n",
    "            for campo in vertice:\n",
    "                gml.write(f'        {campo} {vertice[campo]}\\n')\n",
    "            gml.write('    ]\\n')\n",
    "        gml.write(']\\n')\n",
    "    gml.close()"
   ]
  },
  {
   "cell_type": "code",
   "execution_count": 6,
   "metadata": {},
   "outputs": [],
   "source": [
    "# Lê arquivo json\n",
    "with open('json/grafoSenado.json', 'r', encoding='utf-8') as entrada:\n",
    "    grafo = json.load(entrada)\n",
    "entrada.close()"
   ]
  },
  {
   "cell_type": "code",
   "execution_count": 7,
   "metadata": {},
   "outputs": [],
   "source": [
    "gSenado = nx.Graph()"
   ]
  },
  {
   "cell_type": "code",
   "execution_count": 8,
   "metadata": {},
   "outputs": [],
   "source": [
    "for no in grafo['nodes']:\n",
    "    if no['tipo'] == 'gasto':\n",
    "        gSenado.add_node(no['id'], label=no['nome'], uso=int(round(no['uso']*100)), tipo=no['tipo'])\n",
    "    else:\n",
    "        gSenado.add_node(no['id'], label=no['nome'], uso=int(round(no['uso']*100)), tipo=no['tipo'],\n",
    "                         partido=no['partido'], sexo=no['sexo'], status=no['status'],\n",
    "                         participacao=no['participacao'])"
   ]
  },
  {
   "cell_type": "code",
   "execution_count": 9,
   "metadata": {},
   "outputs": [],
   "source": [
    "for vertice in grafo['links']:\n",
    "    gSenado.add_edge(vertice['source'], vertice['target'], weight=int(round(vertice['weight'])))"
   ]
  },
  {
   "cell_type": "code",
   "execution_count": 10,
   "metadata": {},
   "outputs": [],
   "source": [
    "%matplotlib inline"
   ]
  },
  {
   "cell_type": "code",
   "execution_count": 11,
   "metadata": {},
   "outputs": [
    {
     "data": {
      "image/png": "[encoded data removed]",
      "text/plain": [
       "<Figure size 432x288 with 1 Axes>"
      ]
     },
     "metadata": {},
     "output_type": "display_data"
    }
   ],
   "source": [
    "#plt.subplot(121)\n",
    "#nx.draw(gSenado, edge_color='b')\n",
    "#plt.subplot(121)\n",
    "nx.draw(gSenado, pos=nx.circular_layout(gSenado), nodecolor='r', edge_color='b')"
   ]
  },
  {
   "cell_type": "code",
   "execution_count": 12,
   "metadata": {},
   "outputs": [
    {
     "data": {
      "image/png": "[encoded data removed]",
      "text/plain": [
       "<Figure size 432x288 with 1 Axes>"
      ]
     },
     "metadata": {},
     "output_type": "display_data"
    }
   ],
   "source": [
    "G = nx.cubical_graph()\n",
    "plt.subplot(121)\n",
    "nx.draw(G)"
   ]
  },
  {
   "cell_type": "code",
   "execution_count": 13,
   "metadata": {},
   "outputs": [
    {
     "name": "stdout",
     "output_type": "stream",
     "text": [
      "{0: {1: {}, 3: {}, 4: {}}, 1: {0: {}, 2: {}, 7: {}}, 2: {1: {}, 3: {}, 6: {}}, 3: {0: {}, 2: {}, 5: {}}, 4: {0: {}, 5: {}, 7: {}}, 5: {3: {}, 4: {}, 6: {}}, 6: {2: {}, 5: {}, 7: {}}, 7: {1: {}, 4: {}, 6: {}}}\n"
     ]
    }
   ],
   "source": [
    "print(G.adj)"
   ]
  },
  {
   "cell_type": "code",
   "execution_count": 31,
   "metadata": {},
   "outputs": [
    {
     "data": {
      "text/plain": [
       "{0: 0.7647058823529411,\n",
       " 1: 0.6470588235294117,\n",
       " 2: 0.8151260504201681,\n",
       " 3: 0.6470588235294117,\n",
       " 4: 0.8403361344537815,\n",
       " 5: 0.453781512605042,\n",
       " 6: 0.7815126050420168,\n",
       " 7: 0.8655462184873949,\n",
       " 8: 0.8655462184873949,\n",
       " 9: 0.7394957983193277,\n",
       " 10: 0.15126050420168066,\n",
       " 11: 0.2184873949579832,\n",
       " 12: 0.8403361344537815,\n",
       " 13: 0.7142857142857143,\n",
       " 14: 0.10084033613445378,\n",
       " 15: 0.07563025210084033,\n",
       " 16: 0.05042016806722689,\n",
       " 17: 0.09243697478991596,\n",
       " 18: 0.09243697478991596,\n",
       " 19: 0.10084033613445378,\n",
       " 20: 0.09243697478991596,\n",
       " 21: 0.08403361344537814,\n",
       " 22: 0.10084033613445378,\n",
       " 23: 0.07563025210084033,\n",
       " 24: 0.10084033613445378,\n",
       " 25: 0.058823529411764705,\n",
       " 26: 0.10084033613445378,\n",
       " 27: 0.09243697478991596,\n",
       " 28: 0.10084033613445378,\n",
       " 29: 0.10084033613445378,\n",
       " 30: 0.07563025210084033,\n",
       " 31: 0.10084033613445378,\n",
       " 32: 0.08403361344537814,\n",
       " 33: 0.1092436974789916,\n",
       " 34: 0.1092436974789916,\n",
       " 35: 0.03361344537815126,\n",
       " 36: 0.10084033613445378,\n",
       " 37: 0.09243697478991596,\n",
       " 38: 0.1092436974789916,\n",
       " 39: 0.1092436974789916,\n",
       " 40: 0.10084033613445378,\n",
       " 41: 0.11764705882352941,\n",
       " 42: 0.11764705882352941,\n",
       " 43: 0.10084033613445378,\n",
       " 44: 0.09243697478991596,\n",
       " 45: 0.09243697478991596,\n",
       " 46: 0.06722689075630252,\n",
       " 47: 0.1092436974789916,\n",
       " 48: 0.10084033613445378,\n",
       " 49: 0.08403361344537814,\n",
       " 50: 0.1092436974789916,\n",
       " 51: 0.09243697478991596,\n",
       " 52: 0.08403361344537814,\n",
       " 53: 0.09243697478991596,\n",
       " 54: 0.09243697478991596,\n",
       " 55: 0.10084033613445378,\n",
       " 56: 0.10084033613445378,\n",
       " 57: 0.08403361344537814,\n",
       " 58: 0.10084033613445378,\n",
       " 59: 0.10084033613445378,\n",
       " 60: 0.10084033613445378,\n",
       " 61: 0.06722689075630252,\n",
       " 62: 0.09243697478991596,\n",
       " 63: 0.06722689075630252,\n",
       " 64: 0.08403361344537814,\n",
       " 65: 0.10084033613445378,\n",
       " 66: 0.1092436974789916,\n",
       " 67: 0.10084033613445378,\n",
       " 68: 0.11764705882352941,\n",
       " 69: 0.07563025210084033,\n",
       " 70: 0.10084033613445378,\n",
       " 71: 0.1092436974789916,\n",
       " 72: 0.01680672268907563,\n",
       " 73: 0.10084033613445378,\n",
       " 74: 0.10084033613445378,\n",
       " 75: 0.1092436974789916,\n",
       " 76: 0.11764705882352941,\n",
       " 77: 0.11764705882352941,\n",
       " 78: 0.01680672268907563,\n",
       " 79: 0.09243697478991596,\n",
       " 80: 0.08403361344537814,\n",
       " 81: 0.10084033613445378,\n",
       " 82: 0.08403361344537814,\n",
       " 83: 0.09243697478991596,\n",
       " 84: 0.1092436974789916,\n",
       " 85: 0.06722689075630252,\n",
       " 86: 0.1092436974789916,\n",
       " 87: 0.06722689075630252,\n",
       " 88: 0.1092436974789916,\n",
       " 89: 0.10084033613445378,\n",
       " 90: 0.10084033613445378,\n",
       " 91: 0.09243697478991596,\n",
       " 92: 0.1092436974789916,\n",
       " 93: 0.09243697478991596,\n",
       " 94: 0.09243697478991596,\n",
       " 95: 0.1092436974789916,\n",
       " 97: 0.09243697478991596,\n",
       " 98: 0.10084033613445378,\n",
       " 100: 0.09243697478991596,\n",
       " 101: 0.06722689075630252,\n",
       " 102: 0.10084033613445378,\n",
       " 103: 0.09243697478991596,\n",
       " 104: 0.08403361344537814,\n",
       " 105: 0.058823529411764705,\n",
       " 108: 0.01680672268907563,\n",
       " 109: 0.08403361344537814,\n",
       " 114: 0.09243697478991596,\n",
       " 115: 0.10084033613445378,\n",
       " 117: 0.06722689075630252,\n",
       " 118: 0.08403361344537814,\n",
       " 120: 0.008403361344537815,\n",
       " 121: 0.08403361344537814,\n",
       " 123: 0.06722689075630252,\n",
       " 124: 0.008403361344537815,\n",
       " 125: 0.08403361344537814,\n",
       " 127: 0.07563025210084033,\n",
       " 128: 0.07563025210084033,\n",
       " 130: 0.06722689075630252,\n",
       " 131: 0.10084033613445378,\n",
       " 132: 0.03361344537815126}"
      ]
     },
     "execution_count": 31,
     "metadata": {},
     "output_type": "execute_result"
    }
   ],
   "source": [
    "nx.degree_centrality(gSenado)"
   ]
  },
  {
   "cell_type": "code",
   "execution_count": 32,
   "metadata": {},
   "outputs": [
    {
     "name": "stdout",
     "output_type": "stream",
     "text": [
      "{0: {14: {'weight': 239396}, 15: {'weight': 178079}, 17: {'weight': 97164}, 18: {'weight': 393204}, 19: {'weight': 37086}, 20: {'weight': 119669}, 21: {'weight': 40753}, 22: {'weight': 648343}, 23: {'weight': 233147}, 24: {'weight': 10000}, 26: {'weight': 94762}, 27: {'weight': 134953}, 28: {'weight': 204833}, 29: {'weight': 110993}, 30: {'weight': 438945}, 31: {'weight': 180783}, 33: {'weight': 107501}, 34: {'weight': 224890}, 36: {'weight': 259041}, 38: {'weight': 234228}, 39: {'weight': 291605}, 40: {'weight': 153187}, 41: {'weight': 60352}, 42: {'weight': 226642}, 43: {'weight': 321752}, 44: {'weight': 203826}, 45: {'weight': 99279}, 47: {'weight': 268879}, 48: {'weight': 88587}, 49: {'weight': 35500}, 50: {'weight': 164856}, 51: {'weight': 148207}, 52: {'weight': 221630}, 53: {'weight': 130456}, 54: {'weight': 296659}, 55: {'weight': 242735}, 56: {'weight': 205168}, 57: {'weight': 332700}, 58: {'weight': 353129}, 59: {'weight': 102933}, 60: {'weight': 159743}, 61: {'weight': 138400}, 62: {'weight': 484835}, 64: {'weight': 123324}, 65: {'weight': 510691}, 66: {'weight': 164051}, 67: {'weight': 391753}, 68: {'weight': 167746}, 69: {'weight': 64000}, 70: {'weight': 192900}, 71: {'weight': 205725}, 73: {'weight': 159624}, 74: {'weight': 230837}, 75: {'weight': 197013}, 76: {'weight': 272122}, 77: {'weight': 290524}, 79: {'weight': 278389}, 80: {'weight': 229563}, 81: {'weight': 293913}, 82: {'weight': 218843}, 83: {'weight': 223493}, 84: {'weight': 181037}, 86: {'weight': 124876}, 87: {'weight': 80863}, 88: {'weight': 205873}, 89: {'weight': 39509}, 90: {'weight': 237518}, 91: {'weight': 396689}, 92: {'weight': 306907}, 93: {'weight': 205518}, 94: {'weight': 124289}, 95: {'weight': 315407}, 97: {'weight': 106736}, 98: {'weight': 215552}, 100: {'weight': 9476}, 101: {'weight': 87279}, 102: {'weight': 168559}, 103: {'weight': 134583}, 104: {'weight': 2090}, 105: {'weight': 160}, 109: {'weight': 112142}, 114: {'weight': 23932}, 115: {'weight': 167048}, 117: {'weight': 27644}, 118: {'weight': 18302}, 121: {'weight': 22196}, 123: {'weight': 47637}, 127: {'weight': 32146}, 128: {'weight': 11656}, 130: {'weight': 13747}, 131: {'weight': 126746}}, 1: {14: {'weight': 7486}, 15: {'weight': 8442}, 17: {'weight': 17538}, 18: {'weight': 91961}, 19: {'weight': 1444}, 20: {'weight': 17830}, 22: {'weight': 39495}, 24: {'weight': 4884}, 26: {'weight': 8074}, 27: {'weight': 55977}, 28: {'weight': 46042}, 29: {'weight': 84328}, 31: {'weight': 56458}, 32: {'weight': 360}, 33: {'weight': 15764}, 34: {'weight': 60120}, 36: {'weight': 14172}, 38: {'weight': 59334}, 39: {'weight': 36217}, 40: {'weight': 55944}, 41: {'weight': 7166}, 42: {'weight': 77626}, 43: {'weight': 68015}, 44: {'weight': 73710}, 45: {'weight': 2283}, 47: {'weight': 86822}, 48: {'weight': 27688}, 50: {'weight': 19486}, 51: {'weight': 127117}, 52: {'weight': 38104}, 53: {'weight': 2300}, 54: {'weight': 176035}, 55: {'weight': 6494}, 56: {'weight': 30711}, 58: {'weight': 101142}, 59: {'weight': 13483}, 60: {'weight': 6225}, 62: {'weight': 22035}, 64: {'weight': 4000}, 65: {'weight': 30609}, 66: {'weight': 141507}, 67: {'weight': 21317}, 68: {'weight': 127804}, 70: {'weight': 12541}, 71: {'weight': 11702}, 73: {'weight': 414}, 74: {'weight': 19849}, 75: {'weight': 55687}, 76: {'weight': 34024}, 77: {'weight': 26650}, 79: {'weight': 171227}, 80: {'weight': 117265}, 81: {'weight': 163780}, 82: {'weight': 6997}, 83: {'weight': 12850}, 86: {'weight': 18385}, 88: {'weight': 22010}, 89: {'weight': 19724}, 90: {'weight': 52043}, 91: {'weight': 88307}, 92: {'weight': 72089}, 95: {'weight': 65287}, 97: {'weight': 11360}, 98: {'weight': 54125}, 100: {'weight': 620}, 102: {'weight': 29173}, 103: {'weight': 9651}, 104: {'weight': 1045}, 105: {'weight': 50}, 109: {'weight': 12433}, 114: {'weight': 12633}, 115: {'weight': 781}, 118: {'weight': 5879}, 125: {'weight': 6000}, 127: {'weight': 410}, 128: {'weight': 714}, 131: {'weight': 18108}}, 2: {14: {'weight': 492800}, 15: {'weight': 19172}, 16: {'weight': 17530}, 17: {'weight': 93912}, 18: {'weight': 18917}, 19: {'weight': 300975}, 20: {'weight': 38923}, 21: {'weight': 158273}, 22: {'weight': 25969}, 23: {'weight': 45844}, 24: {'weight': 1047761}, 25: {'weight': 276}, 26: {'weight': 89208}, 27: {'weight': 212125}, 28: {'weight': 384714}, 29: {'weight': 320884}, 30: {'weight': 435}, 31: {'weight': 455676}, 32: {'weight': 6897}, 33: {'weight': 178893}, 34: {'weight': 356767}, 36: {'weight': 477533}, 37: {'weight': 47}, 38: {'weight': 584614}, 39: {'weight': 116409}, 40: {'weight': 145600}, 41: {'weight': 603225}, 42: {'weight': 159796}, 43: {'weight': 624775}, 44: {'weight': 1581}, 45: {'weight': 635012}, 47: {'weight': 406285}, 48: {'weight': 397518}, 49: {'weight': 127031}, 50: {'weight': 327377}, 51: {'weight': 406855}, 52: {'weight': 121855}, 53: {'weight': 458968}, 54: {'weight': 462402}, 55: {'weight': 54343}, 56: {'weight': 218892}, 57: {'weight': 19212}, 58: {'weight': 165500}, 59: {'weight': 380061}, 60: {'weight': 207611}, 61: {'weight': 153822}, 62: {'weight': 46714}, 64: {'weight': 348145}, 65: {'weight': 405069}, 66: {'weight': 367184}, 67: {'weight': 416527}, 68: {'weight': 50154}, 69: {'weight': 573}, 70: {'weight': 106044}, 71: {'weight': 465531}, 73: {'weight': 7232}, 74: {'weight': 261546}, 75: {'weight': 159985}, 76: {'weight': 224014}, 77: {'weight': 258067}, 79: {'weight': 118421}, 80: {'weight': 1885}, 81: {'weight': 177833}, 82: {'weight': 77594}, 83: {'weight': 49353}, 84: {'weight': 326701}, 85: {'weight': 308}, 86: {'weight': 430549}, 87: {'weight': 225095}, 88: {'weight': 316647}, 89: {'weight': 646712}, 90: {'weight': 201010}, 91: {'weight': 329899}, 92: {'weight': 359406}, 93: {'weight': 453320}, 94: {'weight': 211531}, 95: {'weight': 37135}, 97: {'weight': 1853}, 98: {'weight': 4529}, 100: {'weight': 13867}, 102: {'weight': 95618}, 103: {'weight': 6052}, 104: {'weight': 22834}, 105: {'weight': 5121}, 109: {'weight': 28562}, 114: {'weight': 41607}, 115: {'weight': 110465}, 117: {'weight': 44278}, 118: {'weight': 23979}, 121: {'weight': 29611}, 123: {'weight': 19355}, 125: {'weight': 12450}, 127: {'weight': 40021}, 128: {'weight': 39465}, 130: {'weight': 24000}, 131: {'weight': 68084}, 132: {'weight': 1608}}, 3: {14: {'weight': 174806}, 19: {'weight': 316384}, 20: {'weight': 231760}, 21: {'weight': 402278}, 22: {'weight': 23019}, 23: {'weight': 23244}, 25: {'weight': 16900}, 26: {'weight': 242269}, 27: {'weight': 8830}, 28: {'weight': 761376}, 29: {'weight': 2340}, 31: {'weight': 9950}, 32: {'weight': 511828}, 33: {'weight': 188109}, 34: {'weight': 171629}, 36: {'weight': 32984}, 37: {'weight': 144000}, 38: {'weight': 2195}, 39: {'weight': 107092}, 40: {'weight': 35500}, 41: {'weight': 311933}, 42: {'weight': 82350}, 43: {'weight': 14390}, 44: {'weight': 148758}, 45: {'weight': 413791}, 46: {'weight': 15400}, 47: {'weight': 37490}, 48: {'weight': 46848}, 49: {'weight': 369360}, 50: {'weight': 360179}, 51: {'weight': 5962}, 54: {'weight': 250100}, 55: {'weight': 1685}, 56: {'weight': 3500}, 58: {'weight': 41040}, 59: {'weight': 124766}, 60: {'weight': 107861}, 62: {'weight': 14030}, 63: {'weight': 173614}, 66: {'weight': 156067}, 67: {'weight': 64382}, 68: {'weight': 78968}, 69: {'weight': 495400}, 70: {'weight': 15435}, 71: {'weight': 18600}, 73: {'weight': 48000}, 74: {'weight': 80397}, 75: {'weight': 1638}, 76: {'weight': 168698}, 77: {'weight': 113212}, 79: {'weight': 261446}, 80: {'weight': 265304}, 81: {'weight': 520}, 82: {'weight': 279320}, 83: {'weight': 72400}, 84: {'weight': 553761}, 86: {'weight': 242852}, 87: {'weight': 705822}, 88: {'weight': 475458}, 89: {'weight': 280332}, 90: {'weight': 91205}, 91: {'weight': 190780}, 92: {'weight': 46474}, 93: {'weight': 695}, 94: {'weight': 323042}, 95: {'weight': 6681}, 97: {'weight': 81460}, 98: {'weight': 229200}, 100: {'weight': 59800}, 102: {'weight': 17450}, 103: {'weight': 68192}, 104: {'weight': 113950}, 114: {'weight': 6797}, 115: {'weight': 20600}, 118: {'weight': 10778}, 121: {'weight': 41200}, 125: {'weight': 249724}}, 4: {14: {'weight': 320109}, 15: {'weight': 55567}, 16: {'weight': 348363}, 17: {'weight': 220459}, 18: {'weight': 270282}, 19: {'weight': 216290}, 20: {'weight': 215835}, 21: {'weight': 299033}, 22: {'weight': 112603}, 23: {'weight': 294878}, 24: {'weight': 235244}, 25: {'weight': 1020}, 26: {'weight': 183856}, 27: {'weight': 203105}, 28: {'weight': 166734}, 29: {'weight': 302117}, 30: {'weight': 32186}, 31: {'weight': 370036}, 32: {'weight': 314621}, 33: {'weight': 114849}, 34: {'weight': 288769}, 36: {'weight': 327024}, 38: {'weight': 231565}, 39: {'weight': 429427}, 40: {'weight': 254771}, 41: {'weight': 385699}, 42: {'weight': 378596}, 43: {'weight': 382804}, 44: {'weight': 1181}, 45: {'weight': 210961}, 46: {'weight': 436228}, 47: {'weight': 331556}, 48: {'weight': 225407}, 49: {'weight': 227879}, 50: {'weight': 343510}, 51: {'weight': 411011}, 52: {'weight': 423802}, 53: {'weight': 251691}, 54: {'weight': 396985}, 55: {'weight': 62062}, 56: {'weight': 234322}, 57: {'weight': 875570}, 58: {'weight': 283119}, 59: {'weight': 74231}, 60: {'weight': 657112}, 61: {'weight': 63800}, 62: {'weight': 235191}, 63: {'weight': 153723}, 64: {'weight': 136525}, 65: {'weight': 291363}, 66: {'weight': 183364}, 67: {'weight': 511835}, 68: {'weight': 131886}, 69: {'weight': 8439}, 70: {'weight': 699342}, 71: {'weight': 433368}, 73: {'weight': 71138}, 74: {'weight': 262777}, 75: {'weight': 134658}, 76: {'weight': 337314}, 77: {'weight': 187008}, 79: {'weight': 420555}, 80: {'weight': 414502}, 81: {'weight': 159692}, 82: {'weight': 482476}, 83: {'weight': 193588}, 84: {'weight': 223002}, 85: {'weight': 79553}, 86: {'weight': 297072}, 87: {'weight': 402169}, 88: {'weight': 381724}, 89: {'weight': 16641}, 90: {'weight': 278026}, 91: {'weight': 213926}, 92: {'weight': 2361}, 93: {'weight': 183329}, 94: {'weight': 219632}, 95: {'weight': 171992}, 97: {'weight': 55462}, 98: {'weight': 108035}, 100: {'weight': 25732}, 101: {'weight': 158113}, 102: {'weight': 66913}, 103: {'weight': 125257}, 104: {'weight': 23161}, 105: {'weight': 26345}, 108: {'weight': 3923}, 109: {'weight': 65321}, 114: {'weight': 28908}, 115: {'weight': 109710}, 117: {'weight': 27383}, 118: {'weight': 54305}, 121: {'weight': 16919}, 123: {'weight': 18892}, 125: {'weight': 182527}, 127: {'weight': 18085}, 128: {'weight': 3958}, 130: {'weight': 8672}, 131: {'weight': 42914}, 132: {'weight': 9690}}, 5: {14: {'weight': 11341}, 17: {'weight': 30946}, 18: {'weight': 109993}, 19: {'weight': 82909}, 24: {'weight': 84436}, 26: {'weight': 9727}, 28: {'weight': 11996}, 29: {'weight': 5409}, 33: {'weight': 27737}, 34: {'weight': 680}, 36: {'weight': 61751}, 37: {'weight': 23668}, 38: {'weight': 11513}, 39: {'weight': 62008}, 41: {'weight': 117153}, 42: {'weight': 48193}, 43: {'weight': 135099}, 44: {'weight': 114531}, 47: {'weight': 113797}, 49: {'weight': 8308}, 50: {'weight': 61144}, 54: {'weight': 3399}, 55: {'weight': 31753}, 56: {'weight': 15706}, 57: {'weight': 61434}, 58: {'weight': 96973}, 60: {'weight': 9673}, 65: {'weight': 13224}, 66: {'weight': 29333}, 67: {'weight': 680}, 68: {'weight': 11849}, 70: {'weight': 5524}, 71: {'weight': 5317}, 73: {'weight': 7540}, 74: {'weight': 15280}, 75: {'weight': 14306}, 76: {'weight': 175547}, 77: {'weight': 58775}, 81: {'weight': 4819}, 84: {'weight': 41856}, 86: {'weight': 1963}, 88: {'weight': 83437}, 89: {'weight': 5308}, 91: {'weight': 51061}, 92: {'weight': 9610}, 93: {'weight': 22539}, 94: {'weight': 9460}, 95: {'weight': 41787}, 98: {'weight': 38350}, 102: {'weight': 27520}, 105: {'weight': 1382}, 114: {'weight': 20910}, 115: {'weight': 10616}, 131: {'weight': 18959}}, 6: {14: {'weight': 12281}, 16: {'weight': 19526}, 17: {'weight': 14629}, 18: {'weight': 9000}, 19: {'weight': 13752}, 20: {'weight': 1933}, 21: {'weight': 20208}, 22: {'weight': 1209}, 23: {'weight': 15804}, 24: {'weight': 21576}, 26: {'weight': 15260}, 27: {'weight': 13570}, 28: {'weight': 15204}, 29: {'weight': 14456}, 30: {'weight': 21523}, 31: {'weight': 12605}, 32: {'weight': 3861}, 33: {'weight': 3303}, 34: {'weight': 17449}, 35: {'weight': 6602}, 36: {'weight': 8246}, 37: {'weight': 7673}, 38: {'weight': 19951}, 39: {'weight': 4363}, 40: {'weight': 15897}, 41: {'weight': 13843}, 42: {'weight': 17510}, 43: {'weight': 14965}, 44: {'weight': 18811}, 45: {'weight': 9185}, 46: {'weight': 262}, 47: {'weight': 11455}, 48: {'weight': 20969}, 49: {'weight': 8426}, 50: {'weight': 13123}, 51: {'weight': 5127}, 52: {'weight': 8843}, 53: {'weight': 12355}, 55: {'weight': 4870}, 56: {'weight': 9939}, 57: {'weight': 13796}, 58: {'weight': 16185}, 59: {'weight': 14810}, 60: {'weight': 18064}, 61: {'weight': 5863}, 62: {'weight': 13530}, 63: {'weight': 7864}, 64: {'weight': 8991}, 65: {'weight': 6791}, 66: {'weight': 17855}, 67: {'weight': 3682}, 68: {'weight': 3546}, 69: {'weight': 7407}, 70: {'weight': 17504}, 71: {'weight': 9833}, 73: {'weight': 19114}, 74: {'weight': 9766}, 75: {'weight': 1491}, 76: {'weight': 17652}, 77: {'weight': 14614}, 79: {'weight': 18359}, 80: {'weight': 11324}, 81: {'weight': 13148}, 82: {'weight': 14656}, 83: {'weight': 11553}, 84: {'weight': 12939}, 85: {'weight': 8769}, 86: {'weight': 15792}, 87: {'weight': 18556}, 88: {'weight': 18395}, 89: {'weight': 20298}, 90: {'weight': 6734}, 91: {'weight': 9634}, 92: {'weight': 7018}, 93: {'weight': 4286}, 94: {'weight': 14835}, 95: {'weight': 10543}, 97: {'weight': 13475}, 98: {'weight': 3890}, 100: {'weight': 630}, 101: {'weight': 10035}, 102: {'weight': 14211}, 103: {'weight': 7897}, 109: {'weight': 1913}, 114: {'weight': 1607}, 115: {'weight': 14170}, 118: {'weight': 242}, 121: {'weight': 268}, 123: {'weight': 3140}, 125: {'weight': 10457}, 130: {'weight': 252}, 131: {'weight': 5374}, 132: {'weight': 181}}, 7: {14: {'weight': 15371}, 15: {'weight': 5538}, 16: {'weight': 23272}, 17: {'weight': 12626}, 18: {'weight': 18906}, 19: {'weight': 13106}, 20: {'weight': 12002}, 21: {'weight': 11552}, 22: {'weight': 18163}, 23: {'weight': 6103}, 24: {'weight': 17814}, 25: {'weight': 19057}, 26: {'weight': 12188}, 27: {'weight': 12745}, 28: {'weight': 8351}, 29: {'weight': 16987}, 30: {'weight': 18870}, 31: {'weight': 18780}, 32: {'weight': 12117}, 33: {'weight': 5956}, 34: {'weight': 7828}, 35: {'weight': 17397}, 36: {'weight': 15870}, 37: {'weight': 16591}, 38: {'weight': 20850}, 39: {'weight': 10919}, 40: {'weight': 16897}, 41: {'weight': 12785}, 42: {'weight': 16343}, 43: {'weight': 12981}, 44: {'weight': 25761}, 45: {'weight': 10911}, 46: {'weight': 16423}, 47: {'weight': 13140}, 48: {'weight': 18728}, 49: {'weight': 15773}, 50: {'weight': 16059}, 51: {'weight': 12208}, 52: {'weight': 12713}, 53: {'weight': 21355}, 54: {'weight': 13005}, 55: {'weight': 17209}, 56: {'weight': 10860}, 57: {'weight': 12577}, 58: {'weight': 10206}, 59: {'weight': 13873}, 60: {'weight': 23864}, 61: {'weight': 6132}, 62: {'weight': 10709}, 63: {'weight': 9034}, 64: {'weight': 11335}, 65: {'weight': 15276}, 66: {'weight': 9114}, 67: {'weight': 18428}, 68: {'weight': 9576}, 69: {'weight': 7899}, 70: {'weight': 15592}, 71: {'weight': 16052}, 72: {'weight': 3639}, 73: {'weight': 15163}, 74: {'weight': 14918}, 75: {'weight': 6432}, 76: {'weight': 8755}, 77: {'weight': 20812}, 79: {'weight': 26209}, 80: {'weight': 12834}, 81: {'weight': 16698}, 82: {'weight': 15492}, 83: {'weight': 16253}, 84: {'weight': 11601}, 85: {'weight': 21865}, 86: {'weight': 9193}, 87: {'weight': 27705}, 88: {'weight': 21333}, 89: {'weight': 29575}, 90: {'weight': 20020}, 91: {'weight': 16708}, 92: {'weight': 20279}, 93: {'weight': 7749}, 94: {'weight': 12890}, 95: {'weight': 9080}, 97: {'weight': 6134}, 98: {'weight': 9447}, 100: {'weight': 2122}, 101: {'weight': 2747}, 102: {'weight': 7505}, 103: {'weight': 8457}, 104: {'weight': 1224}, 105: {'weight': 587}, 109: {'weight': 3141}, 114: {'weight': 1525}, 115: {'weight': 4641}, 117: {'weight': 2387}, 118: {'weight': 888}, 121: {'weight': 1134}, 123: {'weight': 1659}, 124: {'weight': 46}, 125: {'weight': 6331}, 127: {'weight': 1203}, 128: {'weight': 774}, 130: {'weight': 428}, 131: {'weight': 3646}, 132: {'weight': 184}}, 8: {14: {'weight': 55224}, 15: {'weight': 18453}, 16: {'weight': 82450}, 17: {'weight': 183847}, 18: {'weight': 94895}, 19: {'weight': 55367}, 20: {'weight': 54219}, 21: {'weight': 77713}, 22: {'weight': 193342}, 23: {'weight': 112323}, 24: {'weight': 220035}, 25: {'weight': 34585}, 26: {'weight': 165914}, 27: {'weight': 91585}, 28: {'weight': 103055}, 29: {'weight': 113325}, 30: {'weight': 145960}, 31: {'weight': 93939}, 32: {'weight': 5392}, 33: {'weight': 122443}, 34: {'weight': 124541}, 35: {'weight': 42593}, 36: {'weight': 168303}, 37: {'weight': 238928}, 38: {'weight': 367078}, 39: {'weight': 10904}, 40: {'weight': 92833}, 41: {'weight': 50701}, 42: {'weight': 98614}, 43: {'weight': 323404}, 44: {'weight': 32778}, 45: {'weight': 89418}, 46: {'weight': 82032}, 47: {'weight': 73971}, 48: {'weight': 152102}, 49: {'weight': 193255}, 50: {'weight': 124176}, 51: {'weight': 443029}, 52: {'weight': 1351}, 53: {'weight': 161875}, 54: {'weight': 92419}, 55: {'weight': 66623}, 56: {'weight': 60010}, 57: {'weight': 24209}, 58: {'weight': 131855}, 59: {'weight': 161007}, 60: {'weight': 130763}, 61: {'weight': 82321}, 62: {'weight': 22755}, 63: {'weight': 59987}, 64: {'weight': 166557}, 65: {'weight': 258014}, 66: {'weight': 217192}, 67: {'weight': 275708}, 68: {'weight': 77923}, 69: {'weight': 10435}, 70: {'weight': 167034}, 71: {'weight': 189114}, 73: {'weight': 166936}, 74: {'weight': 31317}, 75: {'weight': 67984}, 76: {'weight': 90960}, 77: {'weight': 123576}, 78: {'weight': 1384}, 79: {'weight': 237227}, 80: {'weight': 44562}, 81: {'weight': 24915}, 82: {'weight': 55976}, 83: {'weight': 145503}, 84: {'weight': 129618}, 85: {'weight': 91492}, 86: {'weight': 68490}, 87: {'weight': 172333}, 88: {'weight': 50997}, 89: {'weight': 214922}, 90: {'weight': 73952}, 91: {'weight': 129333}, 92: {'weight': 312578}, 93: {'weight': 328954}, 94: {'weight': 256738}, 95: {'weight': 68023}, 97: {'weight': 6866}, 98: {'weight': 13122}, 100: {'weight': 46188}, 101: {'weight': 8578}, 102: {'weight': 33871}, 103: {'weight': 8834}, 104: {'weight': 1807}, 105: {'weight': 145}, 108: {'weight': 28}, 109: {'weight': 1609}, 114: {'weight': 3055}, 115: {'weight': 74863}, 117: {'weight': 3973}, 118: {'weight': 10509}, 120: {'weight': 29}, 121: {'weight': 12927}, 123: {'weight': 541}, 125: {'weight': 38070}, 127: {'weight': 481}, 128: {'weight': 12280}, 130: {'weight': 63}, 131: {'weight': 90964}}, 9: {14: {'weight': 27468}, 15: {'weight': 57350}, 17: {'weight': 68900}, 18: {'weight': 217066}, 19: {'weight': 129800}, 20: {'weight': 117741}, 21: {'weight': 55000}, 22: {'weight': 5639}, 24: {'weight': 154000}, 25: {'weight': 206400}, 26: {'weight': 536922}, 27: {'weight': 1592}, 28: {'weight': 1400}, 29: {'weight': 102754}, 30: {'weight': 277513}, 31: {'weight': 28025}, 32: {'weight': 165000}, 33: {'weight': 24493}, 34: {'weight': 322727}, 36: {'weight': 194277}, 37: {'weight': 226000}, 38: {'weight': 114760}, 39: {'weight': 51530}, 40: {'weight': 244129}, 41: {'weight': 90512}, 42: {'weight': 282673}, 43: {'weight': 12800}, 44: {'weight': 336975}, 45: {'weight': 1950}, 46: {'weight': 155000}, 47: {'weight': 61853}, 48: {'weight': 50138}, 50: {'weight': 141678}, 51: {'weight': 276556}, 52: {'weight': 60723}, 53: {'weight': 128400}, 54: {'weight': 108983}, 55: {'weight': 111343}, 56: {'weight': 110838}, 57: {'weight': 35667}, 58: {'weight': 106959}, 59: {'weight': 117069}, 60: {'weight': 67021}, 62: {'weight': 73889}, 63: {'weight': 1078000}, 64: {'weight': 50007}, 65: {'weight': 17643}, 66: {'weight': 274598}, 67: {'weight': 29474}, 68: {'weight': 180266}, 69: {'weight': 95755}, 70: {'weight': 431554}, 71: {'weight': 23178}, 73: {'weight': 42910}, 74: {'weight': 151746}, 75: {'weight': 16597}, 76: {'weight': 129180}, 77: {'weight': 217063}, 79: {'weight': 329721}, 80: {'weight': 130600}, 82: {'weight': 117092}, 83: {'weight': 18000}, 84: {'weight': 171150}, 85: {'weight': 434750}, 86: {'weight': 357918}, 88: {'weight': 217353}, 89: {'weight': 395}, 90: {'weight': 81734}, 91: {'weight': 94964}, 92: {'weight': 4109}, 93: {'weight': 290834}, 94: {'weight': 534240}, 95: {'weight': 18233}, 97: {'weight': 6000}, 98: {'weight': 66533}, 100: {'weight': 24417}, 102: {'weight': 8782}, 103: {'weight': 34742}, 104: {'weight': 16851}, 109: {'weight': 40060}, 114: {'weight': 566}, 115: {'weight': 151885}, 117: {'weight': 54437}, 121: {'weight': 10500}, 125: {'weight': 28084}, 127: {'weight': 23306}, 128: {'weight': 25000}, 131: {'weight': 1457}}, 10: {17: {'weight': 1939}, 24: {'weight': 324802}, 33: {'weight': 16952}, 36: {'weight': 10755}, 37: {'weight': 8716}, 41: {'weight': 358703}, 42: {'weight': 10785}, 47: {'weight': 92875}, 50: {'weight': 33603}, 66: {'weight': 4524}, 68: {'weight': 2696}, 75: {'weight': 21729}, 76: {'weight': 56840}, 77: {'weight': 15153}, 84: {'weight': 28600}, 88: {'weight': 9511}, 95: {'weight': 34144}, 131: {'weight': 17470}}, 11: {22: {'weight': 237}, 28: {'weight': 2260}, 30: {'weight': 19520}, 31: {'weight': 6007}, 34: {'weight': 10015}, 37: {'weight': 951630}, 38: {'weight': 34486}, 39: {'weight': 15052}, 40: {'weight': 933}, 41: {'weight': 21458}, 42: {'weight': 105}, 48: {'weight': 177120}, 53: {'weight': 9600}, 59: {'weight': 2311}, 65: {'weight': 45}, 68: {'weight': 21145}, 71: {'weight': 220}, 76: {'weight': 209}, 77: {'weight': 232511}, 81: {'weight': 2543}, 84: {'weight': 750}, 86: {'weight': 12872}, 90: {'weight': 1400}, 92: {'weight': 3650}, 101: {'weight': 151}, 128: {'weight': 540}}, 12: {14: {'weight': 32525000}, 15: {'weight': 12700000}, 16: {'weight': 29800000}, 17: {'weight': 21175000}, 18: {'weight': 19625000}, 19: {'weight': 30250000}, 20: {'weight': 26475000}, 21: {'weight': 34475000}, 22: {'weight': 25300000}, 23: {'weight': 61125000}, 24: {'weight': 50350000}, 25: {'weight': 26650000}, 26: {'weight': 36575000}, 27: {'weight': 21075000}, 28: {'weight': 36425000}, 29: {'weight': 18375000}, 30: {'weight': 30975000}, 31: {'weight': 49600000}, 32: {'weight': 22075000}, 33: {'weight': 25700000}, 34: {'weight': 66225000}, 35: {'weight': 33750000}, 36: {'weight': 35950000}, 37: {'weight': 79875000}, 38: {'weight': 28200000}, 39: {'weight': 31325000}, 40: {'weight': 39325000}, 41: {'weight': 40800000}, 42: {'weight': 40800000}, 43: {'weight': 36325000}, 44: {'weight': 79950000}, 45: {'weight': 67225000}, 46: {'weight': 24950000}, 47: {'weight': 29700000}, 48: {'weight': 44675000}, 49: {'weight': 28675000}, 50: {'weight': 31025000}, 51: {'weight': 36350000}, 52: {'weight': 16550000}, 53: {'weight': 79825000}, 54: {'weight': 60425000}, 55: {'weight': 28925000}, 56: {'weight': 18925000}, 57: {'weight': 32400000}, 58: {'weight': 51425000}, 59: {'weight': 26350000}, 60: {'weight': 46075000}, 61: {'weight': 15500000}, 62: {'weight': 33900000}, 63: {'weight': 37050000}, 64: {'weight': 32200000}, 65: {'weight': 25025000}, 66: {'weight': 34875000}, 67: {'weight': 42875000}, 68: {'weight': 22150000}, 69: {'weight': 27100000}, 70: {'weight': 43975000}, 71: {'weight': 29800000}, 72: {'weight': 9575000}, 73: {'weight': 42550000}, 74: {'weight': 18225000}, 75: {'weight': 22850000}, 76: {'weight': 27925000}, 77: {'weight': 31025000}, 78: {'weight': 4625000}, 79: {'weight': 50250000}, 80: {'weight': 33050000}, 81: {'weight': 46800000}, 82: {'weight': 32500000}, 83: {'weight': 26250000}, 84: {'weight': 38175000}, 85: {'weight': 16950000}, 86: {'weight': 35225000}, 87: {'weight': 60600000}, 88: {'weight': 60325000}, 89: {'weight': 59675000}, 90: {'weight': 28650000}, 91: {'weight': 40125000}, 92: {'weight': 34125000}, 93: {'weight': 55200000}, 94: {'weight': 36900000}, 95: {'weight': 14075000}, 97: {'weight': 7425000}, 98: {'weight': 18600000}, 100: {'weight': 15000000}, 101: {'weight': 8525000}, 102: {'weight': 11825000}, 103: {'weight': 12100000}, 104: {'weight': 14400000}, 109: {'weight': 9000000}, 115: {'weight': 15200000}, 117: {'weight': 13275000}, 118: {'weight': 14700000}, 121: {'weight': 11700000}, 123: {'weight': 9625000}, 125: {'weight': 8250000}, 127: {'weight': 7200000}, 128: {'weight': 14100000}, 130: {'weight': 9900000}, 131: {'weight': 8800000}}, 13: {14: {'weight': 5500}, 15: {'weight': 77000}, 18: {'weight': 209000}, 19: {'weight': 220000}, 20: {'weight': 220000}, 21: {'weight': 220000}, 22: {'weight': 49500}, 23: {'weight': 220000}, 24: {'weight': 220000}, 26: {'weight': 214500}, 27: {'weight': 192500}, 29: {'weight': 214500}, 31: {'weight': 220000}, 32: {'weight': 137500}, 33: {'weight': 104500}, 34: {'weight': 209000}, 37: {'weight': 220000}, 38: {'weight': 225500}, 39: {'weight': 214500}, 40: {'weight': 220000}, 41: {'weight': 192500}, 42: {'weight': 220000}, 43: {'weight': 220000}, 45: {'weight': 220000}, 46: {'weight': 220000}, 47: {'weight': 220000}, 48: {'weight': 220000}, 49: {'weight': 209000}, 50: {'weight': 209000}, 51: {'weight': 220000}, 52: {'weight': 209000}, 53: {'weight': 220000}, 54: {'weight': 220000}, 55: {'weight': 132000}, 56: {'weight': 209000}, 57: {'weight': 220000}, 58: {'weight': 220000}, 59: {'weight': 220000}, 60: {'weight': 220000}, 61: {'weight': 5500}, 62: {'weight': 220000}, 63: {'weight': 209000}, 64: {'weight': 209000}, 65: {'weight': 220000}, 66: {'weight': 203500}, 67: {'weight': 126500}, 68: {'weight': 121000}, 70: {'weight': 220000}, 71: {'weight': 214500}, 73: {'weight': 220000}, 74: {'weight': 192500}, 75: {'weight': 115500}, 76: {'weight': 220000}, 77: {'weight': 181500}, 79: {'weight': 93500}, 81: {'weight': 170500}, 83: {'weight': 209000}, 84: {'weight': 220000}, 85: {'weight': 181500}, 86: {'weight': 126500}, 88: {'weight': 220000}, 89: {'weight': 220000}, 90: {'weight': 220000}, 92: {'weight': 220000}, 93: {'weight': 231000}, 94: {'weight': 220000}, 95: {'weight': 198000}, 97: {'weight': 132000}, 98: {'weight': 126500}, 100: {'weight': 27500}, 101: {'weight': 71500}, 102: {'weight': 88000}, 103: {'weight': 88000}, 104: {'weight': 22000}, 109: {'weight': 38500}, 114: {'weight': 22000}, 115: {'weight': 132000}, 117: {'weight': 22000}, 118: {'weight': 22000}, 121: {'weight': 22000}, 123: {'weight': 55000}, 125: {'weight': 88000}, 127: {'weight': 5500}, 130: {'weight': 11000}, 131: {'weight': 93500}}, 14: {0: {'weight': 239396}, 1: {'weight': 7486}, 2: {'weight': 492800}, 3: {'weight': 174806}, 4: {'weight': 320109}, 5: {'weight': 11341}, 6: {'weight': 12281}, 7: {'weight': 15371}, 8: {'weight': 55224}, 9: {'weight': 27468}, 12: {'weight': 32525000}, 13: {'weight': 5500}}, 15: {0: {'weight': 178079}, 1: {'weight': 8442}, 2: {'weight': 19172}, 9: {'weight': 57350}, 4: {'weight': 55567}, 7: {'weight': 5538}, 8: {'weight': 18453}, 12: {'weight': 12700000}, 13: {'weight': 77000}}, 16: {2: {'weight': 17530}, 4: {'weight': 348363}, 6: {'weight': 19526}, 7: {'weight': 23272}, 8: {'weight': 82450}, 12: {'weight': 29800000}}, 17: {0: {'weight': 97164}, 1: {'weight': 17538}, 2: {'weight': 93912}, 9: {'weight': 68900}, 4: {'weight': 220459}, 5: {'weight': 30946}, 10: {'weight': 1939}, 6: {'weight': 14629}, 7: {'weight': 12626}, 8: {'weight': 183847}, 12: {'weight': 21175000}}, 18: {0: {'weight': 393204}, 1: {'weight': 91961}, 2: {'weight': 18917}, 9: {'weight': 217066}, 4: {'weight': 270282}, 5: {'weight': 109993}, 6: {'weight': 9000}, 7: {'weight': 18906}, 8: {'weight': 94895}, 12: {'weight': 19625000}, 13: {'weight': 209000}}, 19: {0: {'weight': 37086}, 1: {'weight': 1444}, 2: {'weight': 300975}, 9: {'weight': 129800}, 3: {'weight': 316384}, 4: {'weight': 216290}, 5: {'weight': 82909}, 6: {'weight': 13752}, 7: {'weight': 13106}, 8: {'weight': 55367}, 12: {'weight': 30250000}, 13: {'weight': 220000}}, 20: {7: {'weight': 12002}, 0: {'weight': 119669}, 1: {'weight': 17830}, 2: {'weight': 38923}, 9: {'weight': 117741}, 3: {'weight': 231760}, 4: {'weight': 215835}, 6: {'weight': 1933}, 8: {'weight': 54219}, 12: {'weight': 26475000}, 13: {'weight': 220000}}, 21: {0: {'weight': 40753}, 2: {'weight': 158273}, 9: {'weight': 55000}, 3: {'weight': 402278}, 4: {'weight': 299033}, 6: {'weight': 20208}, 7: {'weight': 11552}, 8: {'weight': 77713}, 12: {'weight': 34475000}, 13: {'weight': 220000}}, 22: {0: {'weight': 648343}, 1: {'weight': 39495}, 2: {'weight': 25969}, 9: {'weight': 5639}, 4: {'weight': 112603}, 6: {'weight': 1209}, 7: {'weight': 18163}, 8: {'weight': 193342}, 3: {'weight': 23019}, 11: {'weight': 237}, 12: {'weight': 25300000}, 13: {'weight': 49500}}, 23: {0: {'weight': 233147}, 2: {'weight': 45844}, 3: {'weight': 23244}, 4: {'weight': 294878}, 6: {'weight': 15804}, 7: {'weight': 6103}, 8: {'weight': 112323}, 12: {'weight': 61125000}, 13: {'weight': 220000}}, 24: {0: {'weight': 10000}, 1: {'weight': 4884}, 2: {'weight': 1047761}, 9: {'weight': 154000}, 4: {'weight': 235244}, 5: {'weight': 84436}, 10: {'weight': 324802}, 6: {'weight': 21576}, 7: {'weight': 17814}, 8: {'weight': 220035}, 12: {'weight': 50350000}, 13: {'weight': 220000}}, 25: {3: {'weight': 16900}, 7: {'weight': 19057}, 8: {'weight': 34585}, 9: {'weight': 206400}, 2: {'weight': 276}, 4: {'weight': 1020}, 12: {'weight': 26650000}}, 26: {0: {'weight': 94762}, 1: {'weight': 8074}, 2: {'weight': 89208}, 9: {'weight': 536922}, 3: {'weight': 242269}, 4: {'weight': 183856}, 5: {'weight': 9727}, 6: {'weight': 15260}, 7: {'weight': 12188}, 8: {'weight': 165914}, 12: {'weight': 36575000}, 13: {'weight': 214500}}, 27: {0: {'weight': 134953}, 1: {'weight': 55977}, 2: {'weight': 212125}, 9: {'weight': 1592}, 3: {'weight': 8830}, 4: {'weight': 203105}, 6: {'weight': 13570}, 7: {'weight': 12745}, 8: {'weight': 91585}, 12: {'weight': 21075000}, 13: {'weight': 192500}}, 28: {0: {'weight': 204833}, 2: {'weight': 384714}, 3: {'weight': 761376}, 4: {'weight': 166734}, 6: {'weight': 15204}, 7: {'weight': 8351}, 8: {'weight': 103055}, 9: {'weight': 1400}, 5: {'weight': 11996}, 1: {'weight': 46042}, 11: {'weight': 2260}, 12: {'weight': 36425000}}, 29: {0: {'weight': 110993}, 1: {'weight': 84328}, 2: {'weight': 320884}, 9: {'weight': 102754}, 4: {'weight': 302117}, 5: {'weight': 5409}, 6: {'weight': 14456}, 7: {'weight': 16987}, 8: {'weight': 113325}, 3: {'weight': 2340}, 12: {'weight': 18375000}, 13: {'weight': 214500}}, 30: {0: {'weight': 438945}, 2: {'weight': 435}, 9: {'weight': 277513}, 4: {'weight': 32186}, 11: {'weight': 19520}, 6: {'weight': 21523}, 7: {'weight': 18870}, 8: {'weight': 145960}, 12: {'weight': 30975000}}, 31: {0: {'weight': 180783}, 1: {'weight': 56458}, 2: {'weight': 455676}, 9: {'weight': 28025}, 3: {'weight': 9950}, 4: {'weight': 370036}, 11: {'weight': 6007}, 6: {'weight': 12605}, 7: {'weight': 18780}, 8: {'weight': 93939}, 12: {'weight': 49600000}, 13: {'weight': 220000}}, 32: {7: {'weight': 12117}, 1: {'weight': 360}, 2: {'weight': 6897}, 3: {'weight': 511828}, 4: {'weight': 314621}, 6: {'weight': 3861}, 8: {'weight': 5392}, 9: {'weight': 165000}, 12: {'weight': 22075000}, 13: {'weight': 137500}}, 33: {0: {'weight': 107501}, 2: {'weight': 178893}, 3: {'weight': 188109}, 4: {'weight': 114849}, 6: {'weight': 3303}, 7: {'weight': 5956}, 8: {'weight': 122443}, 1: {'weight': 15764}, 9: {'weight': 24493}, 5: {'weight': 27737}, 10: {'weight': 16952}, 12: {'weight': 25700000}, 13: {'weight': 104500}}, 34: {0: {'weight': 224890}, 1: {'weight': 60120}, 2: {'weight': 356767}, 9: {'weight': 322727}, 3: {'weight': 171629}, 4: {'weight': 288769}, 11: {'weight': 10015}, 6: {'weight': 17449}, 7: {'weight': 7828}, 8: {'weight': 124541}, 5: {'weight': 680}, 12: {'weight': 66225000}, 13: {'weight': 209000}}, 35: {6: {'weight': 6602}, 7: {'weight': 17397}, 8: {'weight': 42593}, 12: {'weight': 33750000}}, 36: {0: {'weight': 259041}, 1: {'weight': 14172}, 2: {'weight': 477533}, 9: {'weight': 194277}, 3: {'weight': 32984}, 4: {'weight': 327024}, 5: {'weight': 61751}, 10: {'weight': 10755}, 6: {'weight': 8246}, 7: {'weight': 15870}, 8: {'weight': 168303}, 12: {'weight': 35950000}}, 37: {9: {'weight': 226000}, 11: {'weight': 951630}, 6: {'weight': 7673}, 7: {'weight': 16591}, 8: {'weight': 238928}, 2: {'weight': 47}, 3: {'weight': 144000}, 5: {'weight': 23668}, 10: {'weight': 8716}, 12: {'weight': 79875000}, 13: {'weight': 220000}}, 38: {0: {'weight': 234228}, 1: {'weight': 59334}, 2: {'weight': 584614}, 9: {'weight': 114760}, 4: {'weight': 231565}, 11: {'weight': 34486}, 5: {'weight': 11513}, 6: {'weight': 19951}, 7: {'weight': 20850}, 8: {'weight': 367078}, 3: {'weight': 2195}, 12: {'weight': 28200000}, 13: {'weight': 225500}}, 39: {0: {'weight': 291605}, 1: {'weight': 36217}, 2: {'weight': 116409}, 9: {'weight': 51530}, 3: {'weight': 107092}, 4: {'weight': 429427}, 11: {'weight': 15052}, 5: {'weight': 62008}, 6: {'weight': 4363}, 7: {'weight': 10919}, 8: {'weight': 10904}, 12: {'weight': 31325000}, 13: {'weight': 214500}}, 40: {0: {'weight': 153187}, 1: {'weight': 55944}, 2: {'weight': 145600}, 9: {'weight': 244129}, 3: {'weight': 35500}, 4: {'weight': 254771}, 6: {'weight': 15897}, 7: {'weight': 16897}, 8: {'weight': 92833}, 11: {'weight': 933}, 12: {'weight': 39325000}, 13: {'weight': 220000}}, 41: {0: {'weight': 60352}, 1: {'weight': 7166}, 2: {'weight': 603225}, 9: {'weight': 90512}, 3: {'weight': 311933}, 4: {'weight': 385699}, 11: {'weight': 21458}, 5: {'weight': 117153}, 10: {'weight': 358703}, 6: {'weight': 13843}, 7: {'weight': 12785}, 8: {'weight': 50701}, 12: {'weight': 40800000}, 13: {'weight': 192500}}, 42: {0: {'weight': 226642}, 1: {'weight': 77626}, 2: {'weight': 159796}, 9: {'weight': 282673}, 3: {'weight': 82350}, 4: {'weight': 378596}, 6: {'weight': 17510}, 7: {'weight': 16343}, 8: {'weight': 98614}, 5: {'weight': 48193}, 10: {'weight': 10785}, 11: {'weight': 105}, 12: {'weight': 40800000}, 13: {'weight': 220000}}, 43: {0: {'weight': 321752}, 1: {'weight': 68015}, 2: {'weight': 624775}, 9: {'weight': 12800}, 3: {'weight': 14390}, 4: {'weight': 382804}, 5: {'weight': 135099}, 6: {'weight': 14965}, 7: {'weight': 12981}, 8: {'weight': 323404}, 12: {'weight': 36325000}, 13: {'weight': 220000}}, 44: {0: {'weight': 203826}, 1: {'weight': 73710}, 2: {'weight': 1581}, 9: {'weight': 336975}, 4: {'weight': 1181}, 5: {'weight': 114531}, 6: {'weight': 18811}, 7: {'weight': 25761}, 8: {'weight': 32778}, 3: {'weight': 148758}, 12: {'weight': 79950000}}, 45: {0: {'weight': 99279}, 1: {'weight': 2283}, 2: {'weight': 635012}, 3: {'weight': 413791}, 4: {'weight': 210961}, 6: {'weight': 9185}, 7: {'weight': 10911}, 8: {'weight': 89418}, 9: {'weight': 1950}, 12: {'weight': 67225000}, 13: {'weight': 220000}}, 46: {9: {'weight': 155000}, 3: {'weight': 15400}, 4: {'weight': 436228}, 6: {'weight': 262}, 7: {'weight': 16423}, 8: {'weight': 82032}, 12: {'weight': 24950000}, 13: {'weight': 220000}}, 47: {0: {'weight': 268879}, 1: {'weight': 86822}, 2: {'weight': 406285}, 9: {'weight': 61853}, 3: {'weight': 37490}, 4: {'weight': 331556}, 5: {'weight': 113797}, 10: {'weight': 92875}, 6: {'weight': 11455}, 7: {'weight': 13140}, 8: {'weight': 73971}, 12: {'weight': 29700000}, 13: {'weight': 220000}}, 48: {0: {'weight': 88587}, 2: {'weight': 397518}, 9: {'weight': 50138}, 3: {'weight': 46848}, 4: {'weight': 225407}, 11: {'weight': 177120}, 6: {'weight': 20969}, 7: {'weight': 18728}, 8: {'weight': 152102}, 1: {'weight': 27688}, 12: {'weight': 44675000}, 13: {'weight': 220000}}, 49: {0: {'weight': 35500}, 2: {'weight': 127031}, 3: {'weight': 369360}, 4: {'weight': 227879}, 5: {'weight': 8308}, 6: {'weight': 8426}, 7: {'weight': 15773}, 8: {'weight': 193255}, 12: {'weight': 28675000}, 13: {'weight': 209000}}, 50: {0: {'weight': 164856}, 1: {'weight': 19486}, 2: {'weight': 327377}, 9: {'weight': 141678}, 3: {'weight': 360179}, 4: {'weight': 343510}, 5: {'weight': 61144}, 6: {'weight': 13123}, 7: {'weight': 16059}, 8: {'weight': 124176}, 10: {'weight': 33603}, 12: {'weight': 31025000}, 13: {'weight': 209000}}, 51: {0: {'weight': 148207}, 1: {'weight': 127117}, 2: {'weight': 406855}, 9: {'weight': 276556}, 3: {'weight': 5962}, 4: {'weight': 411011}, 6: {'weight': 5127}, 7: {'weight': 12208}, 8: {'weight': 443029}, 12: {'weight': 36350000}, 13: {'weight': 220000}}, 52: {0: {'weight': 221630}, 1: {'weight': 38104}, 2: {'weight': 121855}, 9: {'weight': 60723}, 4: {'weight': 423802}, 6: {'weight': 8843}, 7: {'weight': 12713}, 8: {'weight': 1351}, 12: {'weight': 16550000}, 13: {'weight': 209000}}, 53: {0: {'weight': 130456}, 1: {'weight': 2300}, 2: {'weight': 458968}, 9: {'weight': 128400}, 4: {'weight': 251691}, 6: {'weight': 12355}, 7: {'weight': 21355}, 8: {'weight': 161875}, 11: {'weight': 9600}, 12: {'weight': 79825000}, 13: {'weight': 220000}}, 54: {0: {'weight': 296659}, 1: {'weight': 176035}, 2: {'weight': 462402}, 9: {'weight': 108983}, 3: {'weight': 250100}, 4: {'weight': 396985}, 7: {'weight': 13005}, 8: {'weight': 92419}, 5: {'weight': 3399}, 12: {'weight': 60425000}, 13: {'weight': 220000}}, 55: {7: {'weight': 17209}, 0: {'weight': 242735}, 1: {'weight': 6494}, 2: {'weight': 54343}, 9: {'weight': 111343}, 4: {'weight': 62062}, 6: {'weight': 4870}, 8: {'weight': 66623}, 3: {'weight': 1685}, 5: {'weight': 31753}, 12: {'weight': 28925000}, 13: {'weight': 132000}}, 56: {0: {'weight': 205168}, 1: {'weight': 30711}, 2: {'weight': 218892}, 9: {'weight': 110838}, 4: {'weight': 234322}, 5: {'weight': 15706}, 6: {'weight': 9939}, 7: {'weight': 10860}, 8: {'weight': 60010}, 3: {'weight': 3500}, 12: {'weight': 18925000}, 13: {'weight': 209000}}, 57: {0: {'weight': 332700}, 2: {'weight': 19212}, 9: {'weight': 35667}, 4: {'weight': 875570}, 5: {'weight': 61434}, 6: {'weight': 13796}, 7: {'weight': 12577}, 8: {'weight': 24209}, 12: {'weight': 32400000}, 13: {'weight': 220000}}, 58: {0: {'weight': 353129}, 1: {'weight': 101142}, 2: {'weight': 165500}, 9: {'weight': 106959}, 3: {'weight': 41040}, 4: {'weight': 283119}, 5: {'weight': 96973}, 6: {'weight': 16185}, 7: {'weight': 10206}, 8: {'weight': 131855}, 12: {'weight': 51425000}, 13: {'weight': 220000}}, 59: {0: {'weight': 102933}, 1: {'weight': 13483}, 2: {'weight': 380061}, 9: {'weight': 117069}, 3: {'weight': 124766}, 4: {'weight': 74231}, 11: {'weight': 2311}, 6: {'weight': 14810}, 7: {'weight': 13873}, 8: {'weight': 161007}, 12: {'weight': 26350000}, 13: {'weight': 220000}}, 60: {0: {'weight': 159743}, 1: {'weight': 6225}, 2: {'weight': 207611}, 9: {'weight': 67021}, 3: {'weight': 107861}, 4: {'weight': 657112}, 5: {'weight': 9673}, 6: {'weight': 18064}, 7: {'weight': 23864}, 8: {'weight': 130763}, 12: {'weight': 46075000}, 13: {'weight': 220000}}, 61: {0: {'weight': 138400}, 2: {'weight': 153822}, 4: {'weight': 63800}, 6: {'weight': 5863}, 7: {'weight': 6132}, 8: {'weight': 82321}, 12: {'weight': 15500000}, 13: {'weight': 5500}}, 62: {0: {'weight': 484835}, 1: {'weight': 22035}, 2: {'weight': 46714}, 9: {'weight': 73889}, 3: {'weight': 14030}, 4: {'weight': 235191}, 6: {'weight': 13530}, 7: {'weight': 10709}, 8: {'weight': 22755}, 12: {'weight': 33900000}, 13: {'weight': 220000}}, 63: {9: {'weight': 1078000}, 3: {'weight': 173614}, 4: {'weight': 153723}, 6: {'weight': 7864}, 7: {'weight': 9034}, 8: {'weight': 59987}, 12: {'weight': 37050000}, 13: {'weight': 209000}}, 64: {0: {'weight': 123324}, 2: {'weight': 348145}, 9: {'weight': 50007}, 4: {'weight': 136525}, 6: {'weight': 8991}, 7: {'weight': 11335}, 8: {'weight': 166557}, 1: {'weight': 4000}, 12: {'weight': 32200000}, 13: {'weight': 209000}}, 65: {0: {'weight': 510691}, 1: {'weight': 30609}, 2: {'weight': 405069}, 9: {'weight': 17643}, 4: {'weight': 291363}, 11: {'weight': 45}, 5: {'weight': 13224}, 6: {'weight': 6791}, 7: {'weight': 15276}, 8: {'weight': 258014}, 12: {'weight': 25025000}, 13: {'weight': 220000}}, 66: {0: {'weight': 164051}, 1: {'weight': 141507}, 2: {'weight': 367184}, 9: {'weight': 274598}, 3: {'weight': 156067}, 4: {'weight': 183364}, 5: {'weight': 29333}, 10: {'weight': 4524}, 6: {'weight': 17855}, 7: {'weight': 9114}, 8: {'weight': 217192}, 12: {'weight': 34875000}, 13: {'weight': 203500}}, 67: {0: {'weight': 391753}, 1: {'weight': 21317}, 2: {'weight': 416527}, 9: {'weight': 29474}, 3: {'weight': 64382}, 4: {'weight': 511835}, 6: {'weight': 3682}, 7: {'weight': 18428}, 8: {'weight': 275708}, 5: {'weight': 680}, 12: {'weight': 42875000}, 13: {'weight': 126500}}, 68: {0: {'weight': 167746}, 1: {'weight': 127804}, 2: {'weight': 50154}, 9: {'weight': 180266}, 3: {'weight': 78968}, 4: {'weight': 131886}, 11: {'weight': 21145}, 6: {'weight': 3546}, 7: {'weight': 9576}, 8: {'weight': 77923}, 5: {'weight': 11849}, 10: {'weight': 2696}, 12: {'weight': 22150000}, 13: {'weight': 121000}}, 69: {0: {'weight': 64000}, 2: {'weight': 573}, 3: {'weight': 495400}, 4: {'weight': 8439}, 6: {'weight': 7407}, 7: {'weight': 7899}, 8: {'weight': 10435}, 9: {'weight': 95755}, 12: {'weight': 27100000}}, 70: {0: {'weight': 192900}, 1: {'weight': 12541}, 2: {'weight': 106044}, 9: {'weight': 431554}, 4: {'weight': 699342}, 6: {'weight': 17504}, 7: {'weight': 15592}, 8: {'weight': 167034}, 3: {'weight': 15435}, 5: {'weight': 5524}, 12: {'weight': 43975000}, 13: {'weight': 220000}}, 71: {0: {'weight': 205725}, 1: {'weight': 11702}, 2: {'weight': 465531}, 9: {'weight': 23178}, 3: {'weight': 18600}, 4: {'weight': 433368}, 11: {'weight': 220}, 6: {'weight': 9833}, 7: {'weight': 16052}, 8: {'weight': 189114}, 5: {'weight': 5317}, 12: {'weight': 29800000}, 13: {'weight': 214500}}, 72: {7: {'weight': 3639}, 12: {'weight': 9575000}}, 73: {0: {'weight': 159624}, 5: {'weight': 7540}, 6: {'weight': 19114}, 7: {'weight': 15163}, 8: {'weight': 166936}, 1: {'weight': 414}, 3: {'weight': 48000}, 4: {'weight': 71138}, 2: {'weight': 7232}, 9: {'weight': 42910}, 12: {'weight': 42550000}, 13: {'weight': 220000}}, 74: {0: {'weight': 230837}, 1: {'weight': 19849}, 2: {'weight': 261546}, 9: {'weight': 151746}, 3: {'weight': 80397}, 4: {'weight': 262777}, 6: {'weight': 9766}, 7: {'weight': 14918}, 8: {'weight': 31317}, 5: {'weight': 15280}, 12: {'weight': 18225000}, 13: {'weight': 192500}}, 75: {0: {'weight': 197013}, 1: {'weight': 55687}, 2: {'weight': 159985}, 9: {'weight': 16597}, 3: {'weight': 1638}, 4: {'weight': 134658}, 5: {'weight': 14306}, 6: {'weight': 1491}, 7: {'weight': 6432}, 8: {'weight': 67984}, 10: {'weight': 21729}, 12: {'weight': 22850000}, 13: {'weight': 115500}}, 76: {0: {'weight': 272122}, 1: {'weight': 34024}, 2: {'weight': 224014}, 9: {'weight': 129180}, 3: {'weight': 168698}, 4: {'weight': 337314}, 11: {'weight': 209}, 5: {'weight': 175547}, 10: {'weight': 56840}, 6: {'weight': 17652}, 7: {'weight': 8755}, 8: {'weight': 90960}, 12: {'weight': 27925000}, 13: {'weight': 220000}}, 77: {0: {'weight': 290524}, 1: {'weight': 26650}, 2: {'weight': 258067}, 9: {'weight': 217063}, 3: {'weight': 113212}, 4: {'weight': 187008}, 11: {'weight': 232511}, 5: {'weight': 58775}, 6: {'weight': 14614}, 7: {'weight': 20812}, 8: {'weight': 123576}, 10: {'weight': 15153}, 12: {'weight': 31025000}, 13: {'weight': 181500}}, 78: {8: {'weight': 1384}, 12: {'weight': 4625000}}, 79: {0: {'weight': 278389}, 1: {'weight': 171227}, 2: {'weight': 118421}, 9: {'weight': 329721}, 3: {'weight': 261446}, 4: {'weight': 420555}, 6: {'weight': 18359}, 7: {'weight': 26209}, 8: {'weight': 237227}, 12: {'weight': 50250000}, 13: {'weight': 93500}}, 80: {0: {'weight': 229563}, 1: {'weight': 117265}, 9: {'weight': 130600}, 3: {'weight': 265304}, 4: {'weight': 414502}, 6: {'weight': 11324}, 7: {'weight': 12834}, 8: {'weight': 44562}, 2: {'weight': 1885}, 12: {'weight': 33050000}}, 81: {0: {'weight': 293913}, 1: {'weight': 163780}, 2: {'weight': 177833}, 4: {'weight': 159692}, 11: {'weight': 2543}, 5: {'weight': 4819}, 6: {'weight': 13148}, 7: {'weight': 16698}, 8: {'weight': 24915}, 3: {'weight': 520}, 12: {'weight': 46800000}, 13: {'weight': 170500}}, 82: {0: {'weight': 218843}, 2: {'weight': 77594}, 9: {'weight': 117092}, 3: {'weight': 279320}, 4: {'weight': 482476}, 6: {'weight': 14656}, 7: {'weight': 15492}, 8: {'weight': 55976}, 1: {'weight': 6997}, 12: {'weight': 32500000}}, 83: {0: {'weight': 223493}, 1: {'weight': 12850}, 2: {'weight': 49353}, 9: {'weight': 18000}, 3: {'weight': 72400}, 4: {'weight': 193588}, 6: {'weight': 11553}, 7: {'weight': 16253}, 8: {'weight': 145503}, 12: {'weight': 26250000}, 13: {'weight': 209000}}, 84: {0: {'weight': 181037}, 2: {'weight': 326701}, 9: {'weight': 171150}, 3: {'weight': 553761}, 4: {'weight': 223002}, 5: {'weight': 41856}, 10: {'weight': 28600}, 6: {'weight': 12939}, 7: {'weight': 11601}, 8: {'weight': 129618}, 11: {'weight': 750}, 12: {'weight': 38175000}, 13: {'weight': 220000}}, 85: {2: {'weight': 308}, 9: {'weight': 434750}, 4: {'weight': 79553}, 6: {'weight': 8769}, 7: {'weight': 21865}, 8: {'weight': 91492}, 12: {'weight': 16950000}, 13: {'weight': 181500}}, 86: {0: {'weight': 124876}, 1: {'weight': 18385}, 2: {'weight': 430549}, 9: {'weight': 357918}, 3: {'weight': 242852}, 4: {'weight': 297072}, 11: {'weight': 12872}, 5: {'weight': 1963}, 6: {'weight': 15792}, 7: {'weight': 9193}, 8: {'weight': 68490}, 12: {'weight': 35225000}, 13: {'weight': 126500}}, 87: {0: {'weight': 80863}, 2: {'weight': 225095}, 3: {'weight': 705822}, 4: {'weight': 402169}, 6: {'weight': 18556}, 7: {'weight': 27705}, 8: {'weight': 172333}, 12: {'weight': 60600000}}, 88: {0: {'weight': 205873}, 1: {'weight': 22010}, 2: {'weight': 316647}, 9: {'weight': 217353}, 3: {'weight': 475458}, 4: {'weight': 381724}, 5: {'weight': 83437}, 10: {'weight': 9511}, 6: {'weight': 18395}, 7: {'weight': 21333}, 8: {'weight': 50997}, 12: {'weight': 60325000}, 13: {'weight': 220000}}, 89: {0: {'weight': 39509}, 1: {'weight': 19724}, 2: {'weight': 646712}, 9: {'weight': 395}, 3: {'weight': 280332}, 4: {'weight': 16641}, 6: {'weight': 20298}, 7: {'weight': 29575}, 8: {'weight': 214922}, 5: {'weight': 5308}, 12: {'weight': 59675000}, 13: {'weight': 220000}}, 90: {0: {'weight': 237518}, 1: {'weight': 52043}, 2: {'weight': 201010}, 9: {'weight': 81734}, 3: {'weight': 91205}, 4: {'weight': 278026}, 11: {'weight': 1400}, 6: {'weight': 6734}, 7: {'weight': 20020}, 8: {'weight': 73952}, 12: {'weight': 28650000}, 13: {'weight': 220000}}, 91: {0: {'weight': 396689}, 1: {'weight': 88307}, 2: {'weight': 329899}, 9: {'weight': 94964}, 3: {'weight': 190780}, 4: {'weight': 213926}, 5: {'weight': 51061}, 6: {'weight': 9634}, 7: {'weight': 16708}, 8: {'weight': 129333}, 12: {'weight': 40125000}}, 92: {0: {'weight': 306907}, 1: {'weight': 72089}, 2: {'weight': 359406}, 9: {'weight': 4109}, 3: {'weight': 46474}, 4: {'weight': 2361}, 11: {'weight': 3650}, 6: {'weight': 7018}, 7: {'weight': 20279}, 8: {'weight': 312578}, 5: {'weight': 9610}, 12: {'weight': 34125000}, 13: {'weight': 220000}}, 93: {0: {'weight': 205518}, 2: {'weight': 453320}, 9: {'weight': 290834}, 4: {'weight': 183329}, 5: {'weight': 22539}, 6: {'weight': 4286}, 7: {'weight': 7749}, 8: {'weight': 328954}, 3: {'weight': 695}, 12: {'weight': 55200000}, 13: {'weight': 231000}}, 94: {0: {'weight': 124289}, 2: {'weight': 211531}, 9: {'weight': 534240}, 3: {'weight': 323042}, 4: {'weight': 219632}, 6: {'weight': 14835}, 7: {'weight': 12890}, 8: {'weight': 256738}, 5: {'weight': 9460}, 12: {'weight': 36900000}, 13: {'weight': 220000}}, 95: {0: {'weight': 315407}, 1: {'weight': 65287}, 2: {'weight': 37135}, 9: {'weight': 18233}, 3: {'weight': 6681}, 4: {'weight': 171992}, 5: {'weight': 41787}, 10: {'weight': 34144}, 6: {'weight': 10543}, 7: {'weight': 9080}, 8: {'weight': 68023}, 12: {'weight': 14075000}, 13: {'weight': 198000}}, 97: {0: {'weight': 106736}, 1: {'weight': 11360}, 2: {'weight': 1853}, 9: {'weight': 6000}, 3: {'weight': 81460}, 4: {'weight': 55462}, 6: {'weight': 13475}, 7: {'weight': 6134}, 8: {'weight': 6866}, 12: {'weight': 7425000}, 13: {'weight': 132000}}, 98: {0: {'weight': 215552}, 1: {'weight': 54125}, 9: {'weight': 66533}, 3: {'weight': 229200}, 4: {'weight': 108035}, 5: {'weight': 38350}, 6: {'weight': 3890}, 7: {'weight': 9447}, 8: {'weight': 13122}, 2: {'weight': 4529}, 12: {'weight': 18600000}, 13: {'weight': 126500}}, 100: {0: {'weight': 9476}, 1: {'weight': 620}, 2: {'weight': 13867}, 9: {'weight': 24417}, 3: {'weight': 59800}, 4: {'weight': 25732}, 6: {'weight': 630}, 7: {'weight': 2122}, 8: {'weight': 46188}, 12: {'weight': 15000000}, 13: {'weight': 27500}}, 101: {0: {'weight': 87279}, 4: {'weight': 158113}, 11: {'weight': 151}, 6: {'weight': 10035}, 7: {'weight': 2747}, 8: {'weight': 8578}, 12: {'weight': 8525000}, 13: {'weight': 71500}}, 102: {0: {'weight': 168559}, 1: {'weight': 29173}, 2: {'weight': 95618}, 9: {'weight': 8782}, 3: {'weight': 17450}, 4: {'weight': 66913}, 5: {'weight': 27520}, 6: {'weight': 14211}, 7: {'weight': 7505}, 8: {'weight': 33871}, 12: {'weight': 11825000}, 13: {'weight': 88000}}, 103: {0: {'weight': 134583}, 1: {'weight': 9651}, 2: {'weight': 6052}, 9: {'weight': 34742}, 3: {'weight': 68192}, 4: {'weight': 125257}, 6: {'weight': 7897}, 7: {'weight': 8457}, 8: {'weight': 8834}, 12: {'weight': 12100000}, 13: {'weight': 88000}}, 104: {0: {'weight': 2090}, 2: {'weight': 22834}, 9: {'weight': 16851}, 3: {'weight': 113950}, 4: {'weight': 23161}, 7: {'weight': 1224}, 8: {'weight': 1807}, 1: {'weight': 1045}, 12: {'weight': 14400000}, 13: {'weight': 22000}}, 105: {0: {'weight': 160}, 1: {'weight': 50}, 2: {'weight': 5121}, 4: {'weight': 26345}, 5: {'weight': 1382}, 7: {'weight': 587}, 8: {'weight': 145}}, 108: {4: {'weight': 3923}, 8: {'weight': 28}}, 109: {0: {'weight': 112142}, 1: {'weight': 12433}, 2: {'weight': 28562}, 9: {'weight': 40060}, 4: {'weight': 65321}, 6: {'weight': 1913}, 7: {'weight': 3141}, 8: {'weight': 1609}, 12: {'weight': 9000000}, 13: {'weight': 38500}}, 114: {0: {'weight': 23932}, 1: {'weight': 12633}, 2: {'weight': 41607}, 9: {'weight': 566}, 3: {'weight': 6797}, 4: {'weight': 28908}, 5: {'weight': 20910}, 6: {'weight': 1607}, 7: {'weight': 1525}, 8: {'weight': 3055}, 13: {'weight': 22000}}, 115: {0: {'weight': 167048}, 1: {'weight': 781}, 2: {'weight': 110465}, 9: {'weight': 151885}, 3: {'weight': 20600}, 4: {'weight': 109710}, 5: {'weight': 10616}, 6: {'weight': 14170}, 7: {'weight': 4641}, 8: {'weight': 74863}, 12: {'weight': 15200000}, 13: {'weight': 132000}}, 117: {0: {'weight': 27644}, 2: {'weight': 44278}, 9: {'weight': 54437}, 4: {'weight': 27383}, 7: {'weight': 2387}, 8: {'weight': 3973}, 12: {'weight': 13275000}, 13: {'weight': 22000}}, 118: {0: {'weight': 18302}, 1: {'weight': 5879}, 2: {'weight': 23979}, 3: {'weight': 10778}, 4: {'weight': 54305}, 6: {'weight': 242}, 7: {'weight': 888}, 8: {'weight': 10509}, 12: {'weight': 14700000}, 13: {'weight': 22000}}, 120: {8: {'weight': 29}}, 121: {0: {'weight': 22196}, 2: {'weight': 29611}, 9: {'weight': 10500}, 3: {'weight': 41200}, 4: {'weight': 16919}, 6: {'weight': 268}, 7: {'weight': 1134}, 8: {'weight': 12927}, 12: {'weight': 11700000}, 13: {'weight': 22000}}, 123: {0: {'weight': 47637}, 2: {'weight': 19355}, 4: {'weight': 18892}, 6: {'weight': 3140}, 7: {'weight': 1659}, 8: {'weight': 541}, 12: {'weight': 9625000}, 13: {'weight': 55000}}, 124: {7: {'weight': 46}}, 125: {1: {'weight': 6000}, 2: {'weight': 12450}, 9: {'weight': 28084}, 3: {'weight': 249724}, 4: {'weight': 182527}, 6: {'weight': 10457}, 7: {'weight': 6331}, 8: {'weight': 38070}, 12: {'weight': 8250000}, 13: {'weight': 88000}}, 127: {0: {'weight': 32146}, 1: {'weight': 410}, 2: {'weight': 40021}, 9: {'weight': 23306}, 4: {'weight': 18085}, 7: {'weight': 1203}, 8: {'weight': 481}, 12: {'weight': 7200000}, 13: {'weight': 5500}}, 128: {0: {'weight': 11656}, 1: {'weight': 714}, 2: {'weight': 39465}, 9: {'weight': 25000}, 4: {'weight': 3958}, 11: {'weight': 540}, 7: {'weight': 774}, 8: {'weight': 12280}, 12: {'weight': 14100000}}, 130: {0: {'weight': 13747}, 2: {'weight': 24000}, 4: {'weight': 8672}, 6: {'weight': 252}, 7: {'weight': 428}, 8: {'weight': 63}, 12: {'weight': 9900000}, 13: {'weight': 11000}}, 131: {0: {'weight': 126746}, 1: {'weight': 18108}, 2: {'weight': 68084}, 9: {'weight': 1457}, 4: {'weight': 42914}, 5: {'weight': 18959}, 10: {'weight': 17470}, 6: {'weight': 5374}, 7: {'weight': 3646}, 8: {'weight': 90964}, 12: {'weight': 8800000}, 13: {'weight': 93500}}, 132: {2: {'weight': 1608}, 4: {'weight': 9690}, 6: {'weight': 181}, 7: {'weight': 184}}}\n"
     ]
    }
   ],
   "source": [
    "print(gSenado.adj)"
   ]
  },
  {
   "cell_type": "code",
   "execution_count": 14,
   "metadata": {},
   "outputs": [
    {
     "data": {
      "text/plain": [
       "{0: 0.006982400822445237,\n",
       " 1: 0.0023347108013214647,\n",
       " 2: 0.008023505721436085,\n",
       " 3: 0.005152320457628645,\n",
       " 4: 0.011349680802127365,\n",
       " 5: 0.0021167337993848374,\n",
       " 6: 0.0016155205054527873,\n",
       " 7: 0.002772668839878356,\n",
       " 8: 0.005709761576704618,\n",
       " 9: 0.005062437912939223,\n",
       " 10: 0.0015938927444809226,\n",
       " 11: 0.0017093430025438543,\n",
       " 12: 0.4084551438851284,\n",
       " 13: 0.006064928773858793,\n",
       " 14: 0.0054277348721389895,\n",
       " 15: 0.0028299210446515594,\n",
       " 16: 0.004829223385904182,\n",
       " 17: 0.0039635932588798755,\n",
       " 18: 0.004102979554923699,\n",
       " 19: 0.005213069870665835,\n",
       " 20: 0.004615274055578593,\n",
       " 21: 0.005617638225970241,\n",
       " 22: 0.0045332389181126235,\n",
       " 23: 0.008443643958352138,\n",
       " 24: 0.008119521086765984,\n",
       " 25: 0.004343373881590676,\n",
       " 26: 0.005959994484098883,\n",
       " 27: 0.004001503370580884,\n",
       " 28: 0.00598735199875077,\n",
       " 29: 0.0038616019889413547,\n",
       " 30: 0.005115143381042798,\n",
       " 31: 0.007383251711576708,\n",
       " 32: 0.004175207552073343,\n",
       " 33: 0.004503091650463845,\n",
       " 34: 0.00934451184498793,\n",
       " 35: 0.005058421642744494,\n",
       " 36: 0.005930114110106318,\n",
       " 37: 0.011426192390607864,\n",
       " 38: 0.005223396838018877,\n",
       " 39: 0.005327226546162905,\n",
       " 40: 0.006155328097312031,\n",
       " 41: 0.0070633642838438815,\n",
       " 42: 0.006510345521232768,\n",
       " 43: 0.0062406919884016145,\n",
       " 44: 0.01061588248460861,\n",
       " 45: 0.00937963179753444,\n",
       " 46: 0.004428933541115596,\n",
       " 47: 0.005404686720890575,\n",
       " 48: 0.006922231933939688,\n",
       " 49: 0.004945801617580254,\n",
       " 50: 0.005501160523471493,\n",
       " 51: 0.0061733581756628795,\n",
       " 52: 0.003561208712133151,\n",
       " 53: 0.010706346050957893,\n",
       " 54: 0.008806523136783463,\n",
       " 55: 0.004788032821779668,\n",
       " 56: 0.0038225747580751305,\n",
       " 57: 0.005566750613190515,\n",
       " 58: 0.007660731564968861,\n",
       " 59: 0.004683637430472991,\n",
       " 60: 0.007079304935581038,\n",
       " 61: 0.003163777768540459,\n",
       " 62: 0.005487295331313681,\n",
       " 63: 0.006025885128532529,\n",
       " 64: 0.005263697380967655,\n",
       " 65: 0.004764787586858845,\n",
       " 66: 0.00589418905646694,\n",
       " 67: 0.006792478070752129,\n",
       " 68: 0.004163488974949817,\n",
       " 69: 0.0045334089808659744,\n",
       " 70: 0.006942223579477248,\n",
       " 71: 0.005230816923086032,\n",
       " 72: 0.0023198184521258675,\n",
       " 73: 0.006320136137784243,\n",
       " 74: 0.0038057284715743967,\n",
       " 75: 0.00414704942231014,\n",
       " 76: 0.005200622333190961,\n",
       " 77: 0.0055890132822278464,\n",
       " 78: 0.0017640964458174218,\n",
       " 79: 0.007709027697636045,\n",
       " 80: 0.005471048165276306,\n",
       " 81: 0.006924097030877737,\n",
       " 82: 0.005406188323011701,\n",
       " 83: 0.0045824208549971575,\n",
       " 84: 0.0062916722769349445,\n",
       " 85: 0.0034905603061406703,\n",
       " 86: 0.002852674738119433,\n",
       " 87: 0.008684937462185993,\n",
       " 88: 0.008829063427972506,\n",
       " 89: 0.00851238552470522,\n",
       " 90: 0.0049739488854989794,\n",
       " 91: 0.006372580666800497,\n",
       " 92: 0.005630870294896942,\n",
       " 93: 0.008081822243821667,\n",
       " 94: 0.006134747190732526,\n",
       " 95: 0.0032850875454429472,\n",
       " 97: 0.002259860829130886,\n",
       " 98: 0.003696270661089166,\n",
       " 100: 0.0030032295934376285,\n",
       " 101: 0.0023480065559867147,\n",
       " 102: 0.0028217911620781197,\n",
       " 103: 0.002807576902686599,\n",
       " 104: 0.002928075652868947,\n",
       " 105: 0.0012660590814554675,\n",
       " 108: 0.00125176800577626,\n",
       " 109: 0.002375284653286204,\n",
       " 114: 0.0013300324582921949,\n",
       " 115: 0.0032709938778691583,\n",
       " 117: 0.002796170274002893,\n",
       " 118: 0.002944224636728823,\n",
       " 120: 0.001250013598695842,\n",
       " 121: 0.002610721869650706,\n",
       " 123: 0.002379007713739468,\n",
       " 124: 0.0012500865068086164,\n",
       " 125: 0.002434923736050353,\n",
       " 127: 0.002096537691144225,\n",
       " 128: 0.005856050077368217,\n",
       " 130: 0.0023716458638716777,\n",
       " 131: 0.002458728471680257,\n",
       " 132: 0.0012554961858497631}"
      ]
     },
     "execution_count": 14,
     "metadata": {},
     "output_type": "execute_result"
    }
   ],
   "source": [
    "nx.pagerank(gSenado)"
   ]
  },
  {
   "cell_type": "code",
   "execution_count": null,
   "metadata": {},
   "outputs": [],
   "source": [
    "nx.numeric_assortativity_coefficient(gSenado, 'uso', [100, 109])"
   ]
  },
  {
   "cell_type": "code",
   "execution_count": 28,
   "metadata": {},
   "outputs": [
    {
     "name": "stdout",
     "output_type": "stream",
     "text": [
      "[1, 2, 3]\n"
     ]
    }
   ],
   "source": [
    "a = [1, 2, 3]\n",
    "b = list(a)\n",
    "a[0] = 3\n",
    "print(b)"
   ]
  },
  {
   "cell_type": "code",
   "execution_count": 56,
   "metadata": {},
   "outputs": [
    {
     "data": {
      "text/plain": [
       "11662.94"
      ]
     },
     "execution_count": 56,
     "metadata": {},
     "output_type": "execute_result"
    }
   ],
   "source": [
    "gastosSenadores[118]['gastos'][1]['total']"
   ]
  },
  {
   "cell_type": "code",
   "execution_count": 19,
   "metadata": {},
   "outputs": [
    {
     "data": {
      "text/plain": [
       "1"
      ]
     },
     "execution_count": 19,
     "metadata": {},
     "output_type": "execute_result"
    }
   ],
   "source": [
    "[1, 0][-2]"
   ]
  },
  {
   "cell_type": "code",
   "execution_count": 25,
   "metadata": {},
   "outputs": [
    {
     "data": {
      "text/plain": [
       "{'Aluguel de imóveis para escritório político': 16489658.62,\n",
       " 'Aquisição de material de consumo': 3027975.29,\n",
       " 'Combustíveis': 1012498.01,\n",
       " 'Contratação de serviços de apoio ao parlamentar': 11708001.87,\n",
       " 'Correios': 10352935.65,\n",
       " 'Divulgação da atividade parlamentar': 11866405.91,\n",
       " 'Diárias': 2072919.2,\n",
       " 'Locomoção, hospedagem, alimentação, combustíveis e': 19287390.62,\n",
       " 'Outros materiais': 1286763.98,\n",
       " 'Passagens aéreas, aquáticas e terrestres nacionais': 21626326.41,\n",
       " 'Ressarcimento de Passagens': 1049796.76,\n",
       " 'Serviços de Segurança Privada': 1526771.18}"
      ]
     },
     "execution_count": 25,
     "metadata": {},
     "output_type": "execute_result"
    }
   ],
   "source": [
    "gastosSenado"
   ]
  },
  {
   "cell_type": "code",
   "execution_count": 19,
   "metadata": {},
   "outputs": [
    {
     "name": "stdout",
     "output_type": "stream",
     "text": [
      "Uso de Gabinete\n",
      "Uso de benefícios de moradia\n"
     ]
    }
   ],
   "source": [
    "for i in (gabinete, moradia):\n",
    "    print(i)"
   ]
  },
  {
   "cell_type": "code",
   "execution_count": 29,
   "metadata": {},
   "outputs": [
    {
     "name": "stdout",
     "output_type": "stream",
     "text": [
      "101307443.50000003 8442286.958333336 8442286.958333336\n"
     ]
    }
   ],
   "source": [
    "soma = 0.0\n",
    "for i in gastosSenado:\n",
    "    soma += gastosSenado[i]\n",
    "print(soma, soma/len(list(gastosSenado.keys())), soma/12)"
   ]
  }
 ],
 "metadata": {
  "kernelspec": {
   "display_name": "Python 3",
   "language": "python",
   "name": "python3"
  },
  "language_info": {
   "codemirror_mode": {
    "name": "ipython",
    "version": 3
   },
   "file_extension": ".py",
   "mimetype": "text/x-python",
   "name": "python",
   "nbconvert_exporter": "python",
   "pygments_lexer": "ipython3",
   "version": "3.6.3"
  }
 },
 "nbformat": 4,
 "nbformat_minor": 2
}
